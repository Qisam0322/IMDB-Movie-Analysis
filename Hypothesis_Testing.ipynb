{
 "cells": [
  {
   "cell_type": "markdown",
   "id": "67746e76-144d-451f-b6cc-15b326c4c49a",
   "metadata": {},
   "source": [
    "# Retrieve Most Recent Movie Data from TMDB Database (2018-2022)"
   ]
  },
  {
   "cell_type": "code",
   "execution_count": 133,
   "id": "f422cbce-4cb5-4edb-85d3-e1830ded3084",
   "metadata": {},
   "outputs": [],
   "source": [
    "#Imports\n",
    "import os, time, json\n",
    "import tmdbsimple as tmdb\n",
    "import pandas as pd\n",
    "import seaborn as sns\n",
    "import matplotlib.pyplot as plt\n",
    "from tqdm.notebook import tqdm_notebook\n",
    "from matplotlib.ticker import FuncFormatter\n",
    "import numpy as np\n",
    "import scipy.stats as stats"
   ]
  },
  {
   "cell_type": "code",
   "execution_count": 95,
   "id": "ed09d902-2bbf-415b-89fe-902c71b47005",
   "metadata": {},
   "outputs": [
    {
     "data": {
      "text/plain": [
       "dict_keys(['api-key', 'API Read Access Token'])"
      ]
     },
     "execution_count": 95,
     "metadata": {},
     "output_type": "execute_result"
    }
   ],
   "source": [
    "with open('/Users/kellyji/.secret/tmdb_api.json','r') as f:\n",
    "    login=json.load(f)\n",
    "\n",
    "login.keys()"
   ]
  },
  {
   "cell_type": "code",
   "execution_count": 96,
   "id": "334a5ca2-b2ce-4ecd-91fd-0a1de7ce5999",
   "metadata": {},
   "outputs": [],
   "source": [
    "#Login TMDB API with credientials \n",
    "import tmdbsimple as tmdb\n",
    "tmdb.API_KEY = login['api-key']"
   ]
  },
  {
   "cell_type": "code",
   "execution_count": 97,
   "id": "5b46b847-0059-4ecc-be04-f8d097aab4da",
   "metadata": {},
   "outputs": [
    {
     "data": {
      "text/html": [
       "<div>\n",
       "<style scoped>\n",
       "    .dataframe tbody tr th:only-of-type {\n",
       "        vertical-align: middle;\n",
       "    }\n",
       "\n",
       "    .dataframe tbody tr th {\n",
       "        vertical-align: top;\n",
       "    }\n",
       "\n",
       "    .dataframe thead th {\n",
       "        text-align: right;\n",
       "    }\n",
       "</style>\n",
       "<table border=\"1\" class=\"dataframe\">\n",
       "  <thead>\n",
       "    <tr style=\"text-align: right;\">\n",
       "      <th></th>\n",
       "      <th>tconst</th>\n",
       "      <th>titleType</th>\n",
       "      <th>primaryTitle</th>\n",
       "      <th>originalTitle</th>\n",
       "      <th>isAdult</th>\n",
       "      <th>startYear</th>\n",
       "      <th>endYear</th>\n",
       "      <th>runtimeMinutes</th>\n",
       "      <th>genres</th>\n",
       "    </tr>\n",
       "  </thead>\n",
       "  <tbody>\n",
       "    <tr>\n",
       "      <th>0</th>\n",
       "      <td>tt0035423</td>\n",
       "      <td>movie</td>\n",
       "      <td>Kate &amp; Leopold</td>\n",
       "      <td>Kate &amp; Leopold</td>\n",
       "      <td>0</td>\n",
       "      <td>2001.0</td>\n",
       "      <td>NaN</td>\n",
       "      <td>118</td>\n",
       "      <td>Comedy,Fantasy,Romance</td>\n",
       "    </tr>\n",
       "    <tr>\n",
       "      <th>1</th>\n",
       "      <td>tt0062336</td>\n",
       "      <td>movie</td>\n",
       "      <td>The Tango of the Widower and Its Distorting Mi...</td>\n",
       "      <td>El tango del viudo y su espejo deformante</td>\n",
       "      <td>0</td>\n",
       "      <td>2020.0</td>\n",
       "      <td>NaN</td>\n",
       "      <td>70</td>\n",
       "      <td>Drama</td>\n",
       "    </tr>\n",
       "    <tr>\n",
       "      <th>2</th>\n",
       "      <td>tt0069049</td>\n",
       "      <td>movie</td>\n",
       "      <td>The Other Side of the Wind</td>\n",
       "      <td>The Other Side of the Wind</td>\n",
       "      <td>0</td>\n",
       "      <td>2018.0</td>\n",
       "      <td>NaN</td>\n",
       "      <td>122</td>\n",
       "      <td>Drama</td>\n",
       "    </tr>\n",
       "    <tr>\n",
       "      <th>3</th>\n",
       "      <td>tt0088751</td>\n",
       "      <td>movie</td>\n",
       "      <td>The Naked Monster</td>\n",
       "      <td>The Naked Monster</td>\n",
       "      <td>0</td>\n",
       "      <td>2005.0</td>\n",
       "      <td>NaN</td>\n",
       "      <td>100</td>\n",
       "      <td>Comedy,Horror,Sci-Fi</td>\n",
       "    </tr>\n",
       "    <tr>\n",
       "      <th>4</th>\n",
       "      <td>tt0096056</td>\n",
       "      <td>movie</td>\n",
       "      <td>Crime and Punishment</td>\n",
       "      <td>Crime and Punishment</td>\n",
       "      <td>0</td>\n",
       "      <td>2002.0</td>\n",
       "      <td>NaN</td>\n",
       "      <td>126</td>\n",
       "      <td>Drama</td>\n",
       "    </tr>\n",
       "  </tbody>\n",
       "</table>\n",
       "</div>"
      ],
      "text/plain": [
       "      tconst titleType                                       primaryTitle  \\\n",
       "0  tt0035423     movie                                     Kate & Leopold   \n",
       "1  tt0062336     movie  The Tango of the Widower and Its Distorting Mi...   \n",
       "2  tt0069049     movie                         The Other Side of the Wind   \n",
       "3  tt0088751     movie                                  The Naked Monster   \n",
       "4  tt0096056     movie                               Crime and Punishment   \n",
       "\n",
       "                               originalTitle  isAdult  startYear  endYear  \\\n",
       "0                             Kate & Leopold        0     2001.0      NaN   \n",
       "1  El tango del viudo y su espejo deformante        0     2020.0      NaN   \n",
       "2                 The Other Side of the Wind        0     2018.0      NaN   \n",
       "3                          The Naked Monster        0     2005.0      NaN   \n",
       "4                       Crime and Punishment        0     2002.0      NaN   \n",
       "\n",
       "   runtimeMinutes                  genres  \n",
       "0             118  Comedy,Fantasy,Romance  \n",
       "1              70                   Drama  \n",
       "2             122                   Drama  \n",
       "3             100    Comedy,Horror,Sci-Fi  \n",
       "4             126                   Drama  "
      ]
     },
     "execution_count": 97,
     "metadata": {},
     "output_type": "execute_result"
    }
   ],
   "source": [
    "# Load data\n",
    "basics=pd.read_csv('Data/basics.csv')\n",
    "basics.head()"
   ]
  },
  {
   "cell_type": "code",
   "execution_count": 98,
   "id": "22f3fe75-2b93-48e0-96d1-acbca7a385a2",
   "metadata": {},
   "outputs": [
    {
     "data": {
      "text/plain": [
       "['final_tmdb_data_2018.csv.gz',\n",
       " 'final_tmdb_data_2022.csv.gz',\n",
       " 'final_tmdb_data_2020.csv.gz',\n",
       " 'tmdb_api_results_2020.json',\n",
       " 'tmdb_api_results_2021.json',\n",
       " 'tmdb_api_results_2022.json',\n",
       " 'tmdb_api_results_2018.json',\n",
       " 'final_tmdb_data_2019.csv.gz',\n",
       " 'final_tmdb_data_2021.csv.gz',\n",
       " 'tmdb_api_results_2019.json',\n",
       " '.ipynb_checkpoints']"
      ]
     },
     "execution_count": 98,
     "metadata": {},
     "output_type": "execute_result"
    }
   ],
   "source": [
    "FOLDER=\"Data/Hypothesis_Testing_data/\"\n",
    "os.makedirs(FOLDER, exist_ok=True)\n",
    "os.listdir(FOLDER)"
   ]
  },
  {
   "cell_type": "markdown",
   "id": "b74eae02-f2e8-4a6a-9c13-dc49672618c2",
   "metadata": {},
   "source": [
    "**Load customized functions**"
   ]
  },
  {
   "cell_type": "code",
   "execution_count": 4,
   "id": "65973f82-8091-4f3c-8aff-ef8ed7b2bbec",
   "metadata": {},
   "outputs": [],
   "source": [
    "def get_movie_with_rating(movie_id):\n",
    "    movie = tmdb.Movies(movie_id)\n",
    "    \n",
    "    movie_info = movie.info()\n",
    "    releases = movie.releases()\n",
    "    \n",
    "    for c in releases['countries']:\n",
    "        if c['iso_3166_1' ] =='US':\n",
    "            movie_info['certification'] = c['certification']\n",
    "    return movie_info\n",
    "\n",
    "\n",
    "def write_json(new_data, filename): \n",
    "    \"\"\"Appends a list of records (new_data) to a json file (filename). \n",
    "    Adapted from: https://www.geeksforgeeks.org/append-to-json-file-using-python/\"\"\"  \n",
    "    \n",
    "    with open(filename,'r+') as file:\n",
    "        file_data = json.load(file)\n",
    "        if (type(new_data) == list) & (type(file_data) == list):\n",
    "            file_data.extend(new_data)\n",
    "        else:\n",
    "             file_data.append(new_data)\n",
    "        file.seek(0)\n",
    "        json.dump(file_data, file)"
   ]
  },
  {
   "cell_type": "markdown",
   "id": "7f1ac419-5942-4083-a4b4-929e660a66e0",
   "metadata": {},
   "source": [
    "**Decided to get the most recent 5-year movie data**"
   ]
  },
  {
   "cell_type": "code",
   "execution_count": 32,
   "id": "585c9c92-14b9-4bfe-b1d4-02621f5592e0",
   "metadata": {},
   "outputs": [],
   "source": [
    "YEARS_TO_GET=list(range(2018, 2023))"
   ]
  },
  {
   "cell_type": "code",
   "execution_count": 33,
   "id": "6fee760b-3261-45b6-a3be-1e877d4e84d1",
   "metadata": {},
   "outputs": [
    {
     "data": {
      "application/vnd.jupyter.widget-view+json": {
       "model_id": "5264b4a6b851408eaff7c7b59423469d",
       "version_major": 2,
       "version_minor": 0
      },
      "text/plain": [
       "YEARS:   0%|          | 0/5 [00:00<?, ?it/s]"
      ]
     },
     "metadata": {},
     "output_type": "display_data"
    },
    {
     "name": "stdout",
     "output_type": "stream",
     "text": [
      "The file Data/Hypothesis_Testing_data/tmdb_api_results_2018.json already exists.\n"
     ]
    },
    {
     "data": {
      "application/vnd.jupyter.widget-view+json": {
       "model_id": "3701ce52ad2f4e0985b54bf49e52a82f",
       "version_major": 2,
       "version_minor": 0
      },
      "text/plain": [
       "Movies from 2018:   0%|          | 0/5785 [00:00<?, ?it/s]"
      ]
     },
     "metadata": {},
     "output_type": "display_data"
    },
    {
     "name": "stdout",
     "output_type": "stream",
     "text": [
      "CreatingData/Hypothesis_Testing_data/tmdb_api_results_2019.json for API results for year = 2019.\n"
     ]
    },
    {
     "data": {
      "application/vnd.jupyter.widget-view+json": {
       "model_id": "6bb078a9ba214845a94919fc920f64e5",
       "version_major": 2,
       "version_minor": 0
      },
      "text/plain": [
       "Movies from 2019:   0%|          | 0/5877 [00:00<?, ?it/s]"
      ]
     },
     "metadata": {},
     "output_type": "display_data"
    },
    {
     "name": "stdout",
     "output_type": "stream",
     "text": [
      "CreatingData/Hypothesis_Testing_data/tmdb_api_results_2020.json for API results for year = 2020.\n"
     ]
    },
    {
     "data": {
      "application/vnd.jupyter.widget-view+json": {
       "model_id": "025ffe338945414599de159bb6a7ca62",
       "version_major": 2,
       "version_minor": 0
      },
      "text/plain": [
       "Movies from 2020:   0%|          | 0/5010 [00:00<?, ?it/s]"
      ]
     },
     "metadata": {},
     "output_type": "display_data"
    },
    {
     "name": "stdout",
     "output_type": "stream",
     "text": [
      "CreatingData/Hypothesis_Testing_data/tmdb_api_results_2021.json for API results for year = 2021.\n"
     ]
    },
    {
     "data": {
      "application/vnd.jupyter.widget-view+json": {
       "model_id": "d0d3a038e3d54308b935abfd626c9bdb",
       "version_major": 2,
       "version_minor": 0
      },
      "text/plain": [
       "Movies from 2021:   0%|          | 0/5163 [00:00<?, ?it/s]"
      ]
     },
     "metadata": {},
     "output_type": "display_data"
    },
    {
     "name": "stdout",
     "output_type": "stream",
     "text": [
      "CreatingData/Hypothesis_Testing_data/tmdb_api_results_2022.json for API results for year = 2022.\n"
     ]
    },
    {
     "data": {
      "application/vnd.jupyter.widget-view+json": {
       "model_id": "e39e9666f4c04e14a2c7137fb7c61b58",
       "version_major": 2,
       "version_minor": 0
      },
      "text/plain": [
       "Movies from 2022:   0%|          | 0/5073 [00:00<?, ?it/s]"
      ]
     },
     "metadata": {},
     "output_type": "display_data"
    }
   ],
   "source": [
    "for YEAR in tqdm_notebook(YEARS_TO_GET, desc='YEARS', position=0):\n",
    "    JSON_FILE_YEAR = f'{FOLDER}tmdb_api_results_{YEAR}.json'\n",
    "    file_exists = os.path.isfile(JSON_FILE_YEAR)\n",
    "\n",
    "    if file_exists == False:\n",
    "        print(f'Creating{JSON_FILE_YEAR} for API results for year = {YEAR}.')\n",
    "        with open (JSON_FILE_YEAR, 'w') as f:\n",
    "            json.dump([{'imdb_id':0}],f)\n",
    "\n",
    "    else:\n",
    "        print(f'The file {JSON_FILE_YEAR} already exists.')\n",
    "\n",
    "    df_year = basics.loc[basics['startYear'] == YEAR].copy()\n",
    "    movie_ids = df_year['tconst']\n",
    "        \n",
    "        # Create an empty list to store movie information\n",
    "    movie_info_list = []\n",
    "    errors=[]    \n",
    "        # Iterate over movie IDs for the current year\n",
    "    for movie_id in tqdm_notebook(movie_ids, f'Movies from {YEAR}'):\n",
    "        try:\n",
    "            temp = get_movie_with_rating(movie_id)\n",
    "            movie_info_list.append(temp)\n",
    "            time.sleep(0.02)\n",
    "        except Exception as e:\n",
    "            errors.append([movie_id, e])\n",
    "        \n",
    "        # Write the movie information to the JSON file\n",
    "    write_json(movie_info_list, JSON_FILE_YEAR)\n",
    "\n",
    "    final_year_df2 = pd.read_json(JSON_FILE_YEAR)\n",
    "    csv_fname = f'{FOLDER}final_tmdb_data_{YEAR}.csv.gz'\n",
    "    final_year_df2.to_csv(csv_fname, compression='gzip', index=False)"
   ]
  },
  {
   "cell_type": "markdown",
   "id": "1c615878-28b2-469e-8c94-37a8e0eb4946",
   "metadata": {},
   "source": [
    "## Combine All API results"
   ]
  },
  {
   "cell_type": "code",
   "execution_count": 74,
   "id": "77871b51-0a54-4960-a4fb-13a9ccfb3cb7",
   "metadata": {},
   "outputs": [
    {
     "data": {
      "text/plain": [
       "['Data/Hypothesis_Testing_data/final_tmdb_data_2018.csv.gz',\n",
       " 'Data/Hypothesis_Testing_data/final_tmdb_data_2019.csv.gz',\n",
       " 'Data/Hypothesis_Testing_data/final_tmdb_data_2020.csv.gz',\n",
       " 'Data/Hypothesis_Testing_data/final_tmdb_data_2021.csv.gz',\n",
       " 'Data/Hypothesis_Testing_data/final_tmdb_data_2022.csv.gz']"
      ]
     },
     "execution_count": 74,
     "metadata": {},
     "output_type": "execute_result"
    }
   ],
   "source": [
    "import glob\n",
    "tmdb_files = sorted(glob.glob('Data/Hypothesis_Testing_data/final_tmdb_data*.csv.gz'))\n",
    "tmdb_files"
   ]
  },
  {
   "cell_type": "code",
   "execution_count": 75,
   "id": "f424b04f-02ec-44be-8b2a-b411bfbcf49b",
   "metadata": {},
   "outputs": [],
   "source": [
    "# Combine with concat to load all files\n",
    "df=pd.concat([pd.read_csv(f, lineterminator='\\n') for f in tmdb_files])"
   ]
  },
  {
   "cell_type": "code",
   "execution_count": 99,
   "id": "84f48331-26fb-4889-b756-dd46aaa1e150",
   "metadata": {},
   "outputs": [
    {
     "name": "stdout",
     "output_type": "stream",
     "text": [
      "<class 'pandas.core.frame.DataFrame'>\n",
      "Int64Index: 21638 entries, 0 to 3951\n",
      "Data columns (total 26 columns):\n",
      " #   Column                 Non-Null Count  Dtype  \n",
      "---  ------                 --------------  -----  \n",
      " 0   imdb_id                21638 non-null  object \n",
      " 1   adult                  21633 non-null  float64\n",
      " 2   backdrop_path          17039 non-null  object \n",
      " 3   belongs_to_collection  1307 non-null   object \n",
      " 4   budget                 21633 non-null  float64\n",
      " 5   genres                 21633 non-null  object \n",
      " 6   homepage               6069 non-null   object \n",
      " 7   id                     21633 non-null  float64\n",
      " 8   original_language      21633 non-null  object \n",
      " 9   original_title         21633 non-null  object \n",
      " 10  overview               21313 non-null  object \n",
      " 11  popularity             21633 non-null  float64\n",
      " 12  poster_path            21219 non-null  object \n",
      " 13  production_companies   21633 non-null  object \n",
      " 14  production_countries   21633 non-null  object \n",
      " 15  release_date           21236 non-null  object \n",
      " 16  revenue                21633 non-null  float64\n",
      " 17  runtime                21633 non-null  float64\n",
      " 18  spoken_languages       21633 non-null  object \n",
      " 19  status                 21633 non-null  object \n",
      " 20  tagline                8098 non-null   object \n",
      " 21  title                  21633 non-null  object \n",
      " 22  video                  21633 non-null  float64\n",
      " 23  vote_average           21633 non-null  float64\n",
      " 24  vote_count             21633 non-null  float64\n",
      " 25  certification          3974 non-null   object \n",
      "dtypes: float64(9), object(17)\n",
      "memory usage: 4.5+ MB\n"
     ]
    }
   ],
   "source": [
    "df.info()"
   ]
  },
  {
   "cell_type": "code",
   "execution_count": 100,
   "id": "9ad237fc-3e11-420f-9421-c3869a2f13e7",
   "metadata": {},
   "outputs": [],
   "source": [
    "fname = f'Data/tmdb_results_combined2018_2022.csv.gz'\n",
    "df.to_csv(fname, compression='gzip',index=False)"
   ]
  },
  {
   "cell_type": "code",
   "execution_count": 101,
   "id": "89631398-cb35-4b7e-bde3-b9f96577415a",
   "metadata": {},
   "outputs": [
    {
     "data": {
      "text/html": [
       "<div>\n",
       "<style scoped>\n",
       "    .dataframe tbody tr th:only-of-type {\n",
       "        vertical-align: middle;\n",
       "    }\n",
       "\n",
       "    .dataframe tbody tr th {\n",
       "        vertical-align: top;\n",
       "    }\n",
       "\n",
       "    .dataframe thead th {\n",
       "        text-align: right;\n",
       "    }\n",
       "</style>\n",
       "<table border=\"1\" class=\"dataframe\">\n",
       "  <thead>\n",
       "    <tr style=\"text-align: right;\">\n",
       "      <th></th>\n",
       "      <th>imdb_id</th>\n",
       "      <th>adult</th>\n",
       "      <th>backdrop_path</th>\n",
       "      <th>belongs_to_collection</th>\n",
       "      <th>budget</th>\n",
       "      <th>genres</th>\n",
       "      <th>homepage</th>\n",
       "      <th>id</th>\n",
       "      <th>original_language</th>\n",
       "      <th>original_title</th>\n",
       "      <th>...</th>\n",
       "      <th>revenue</th>\n",
       "      <th>runtime</th>\n",
       "      <th>spoken_languages</th>\n",
       "      <th>status</th>\n",
       "      <th>tagline</th>\n",
       "      <th>title</th>\n",
       "      <th>video</th>\n",
       "      <th>vote_average</th>\n",
       "      <th>vote_count</th>\n",
       "      <th>certification</th>\n",
       "    </tr>\n",
       "  </thead>\n",
       "  <tbody>\n",
       "    <tr>\n",
       "      <th>0</th>\n",
       "      <td>0</td>\n",
       "      <td>NaN</td>\n",
       "      <td>NaN</td>\n",
       "      <td>NaN</td>\n",
       "      <td>NaN</td>\n",
       "      <td>NaN</td>\n",
       "      <td>NaN</td>\n",
       "      <td>NaN</td>\n",
       "      <td>NaN</td>\n",
       "      <td>NaN</td>\n",
       "      <td>...</td>\n",
       "      <td>NaN</td>\n",
       "      <td>NaN</td>\n",
       "      <td>NaN</td>\n",
       "      <td>NaN</td>\n",
       "      <td>NaN</td>\n",
       "      <td>NaN</td>\n",
       "      <td>NaN</td>\n",
       "      <td>NaN</td>\n",
       "      <td>NaN</td>\n",
       "      <td>NaN</td>\n",
       "    </tr>\n",
       "    <tr>\n",
       "      <th>1</th>\n",
       "      <td>tt0069049</td>\n",
       "      <td>0.0</td>\n",
       "      <td>/wXUcSJG6dqNKgIRgqYqX98UA1wz.jpg</td>\n",
       "      <td>NaN</td>\n",
       "      <td>12000000.0</td>\n",
       "      <td>[{'id': 18, 'name': 'Drama'}]</td>\n",
       "      <td>https://www.netflix.com/title/80085566</td>\n",
       "      <td>299782.0</td>\n",
       "      <td>en</td>\n",
       "      <td>The Other Side of the Wind</td>\n",
       "      <td>...</td>\n",
       "      <td>0.0</td>\n",
       "      <td>122.0</td>\n",
       "      <td>[{'english_name': 'English', 'iso_639_1': 'en'...</td>\n",
       "      <td>Released</td>\n",
       "      <td>40 years in the making.</td>\n",
       "      <td>The Other Side of the Wind</td>\n",
       "      <td>0.0</td>\n",
       "      <td>6.7</td>\n",
       "      <td>195.0</td>\n",
       "      <td>R</td>\n",
       "    </tr>\n",
       "    <tr>\n",
       "      <th>2</th>\n",
       "      <td>tt0192528</td>\n",
       "      <td>0.0</td>\n",
       "      <td>/gkBxjhtVEqgxOiRwRfWw1j7ez6K.jpg</td>\n",
       "      <td>NaN</td>\n",
       "      <td>5000000.0</td>\n",
       "      <td>[{'id': 18, 'name': 'Drama'}]</td>\n",
       "      <td>NaN</td>\n",
       "      <td>567662.0</td>\n",
       "      <td>en</td>\n",
       "      <td>Reverse Heaven</td>\n",
       "      <td>...</td>\n",
       "      <td>0.0</td>\n",
       "      <td>104.0</td>\n",
       "      <td>[{'english_name': 'English', 'iso_639_1': 'en'...</td>\n",
       "      <td>Released</td>\n",
       "      <td>Heaven's in trouble and there's one man who ca...</td>\n",
       "      <td>Heaven &amp; Hell</td>\n",
       "      <td>0.0</td>\n",
       "      <td>6.0</td>\n",
       "      <td>7.0</td>\n",
       "      <td>NaN</td>\n",
       "    </tr>\n",
       "  </tbody>\n",
       "</table>\n",
       "<p>3 rows × 26 columns</p>\n",
       "</div>"
      ],
      "text/plain": [
       "     imdb_id  adult                     backdrop_path belongs_to_collection  \\\n",
       "0          0    NaN                               NaN                   NaN   \n",
       "1  tt0069049    0.0  /wXUcSJG6dqNKgIRgqYqX98UA1wz.jpg                   NaN   \n",
       "2  tt0192528    0.0  /gkBxjhtVEqgxOiRwRfWw1j7ez6K.jpg                   NaN   \n",
       "\n",
       "       budget                         genres  \\\n",
       "0         NaN                            NaN   \n",
       "1  12000000.0  [{'id': 18, 'name': 'Drama'}]   \n",
       "2   5000000.0  [{'id': 18, 'name': 'Drama'}]   \n",
       "\n",
       "                                 homepage        id original_language  \\\n",
       "0                                     NaN       NaN               NaN   \n",
       "1  https://www.netflix.com/title/80085566  299782.0                en   \n",
       "2                                     NaN  567662.0                en   \n",
       "\n",
       "               original_title  ... revenue  runtime  \\\n",
       "0                         NaN  ...     NaN      NaN   \n",
       "1  The Other Side of the Wind  ...     0.0    122.0   \n",
       "2              Reverse Heaven  ...     0.0    104.0   \n",
       "\n",
       "                                    spoken_languages    status  \\\n",
       "0                                                NaN       NaN   \n",
       "1  [{'english_name': 'English', 'iso_639_1': 'en'...  Released   \n",
       "2  [{'english_name': 'English', 'iso_639_1': 'en'...  Released   \n",
       "\n",
       "                                             tagline  \\\n",
       "0                                                NaN   \n",
       "1                            40 years in the making.   \n",
       "2  Heaven's in trouble and there's one man who ca...   \n",
       "\n",
       "                        title  video  vote_average vote_count certification  \n",
       "0                         NaN    NaN           NaN        NaN           NaN  \n",
       "1  The Other Side of the Wind    0.0           6.7      195.0             R  \n",
       "2               Heaven & Hell    0.0           6.0        7.0           NaN  \n",
       "\n",
       "[3 rows x 26 columns]"
      ]
     },
     "execution_count": 101,
     "metadata": {},
     "output_type": "execute_result"
    }
   ],
   "source": [
    "df.head(3)"
   ]
  },
  {
   "cell_type": "markdown",
   "id": "8fb9ae2e-1c3d-46f6-aefb-e92ea580eaa5",
   "metadata": {},
   "source": [
    "## Hypothesis Testing"
   ]
  },
  {
   "cell_type": "markdown",
   "id": "8d80b95c-03b3-4c01-8c68-a28a55575874",
   "metadata": {},
   "source": [
    "### Does the MPAA rating of a movie (G/PG/PG-13/R) affect how much revenue the movie generates?"
   ]
  },
  {
   "cell_type": "markdown",
   "id": "3b0ea5cd-6b45-4592-8258-f9031648cb1b",
   "metadata": {},
   "source": [
    "**State the Hypothesis and Null Hypothesis**\n",
    "\n",
    "- Null Hypothesis: The MPAA ratings of a movie have NO effect on revenue the movie generates.\n",
    "- Alternative Hypothesis: The MPAA ratings of a movie affect the revenue the movie generates."
   ]
  },
  {
   "cell_type": "code",
   "execution_count": 102,
   "id": "bae9639b-4ba6-4cc8-bc61-8b8dca888a27",
   "metadata": {},
   "outputs": [],
   "source": [
    "# Droping row with nulls in Certification and Revenue\n",
    "df_h=df.dropna(subset=['revenue','certification'])"
   ]
  },
  {
   "cell_type": "code",
   "execution_count": 103,
   "id": "c16dca31-3f8e-45ef-b8d3-4d6308d43a57",
   "metadata": {},
   "outputs": [
    {
     "data": {
      "image/png": "[encoded data removed]",
      "text/plain": [
       "<Figure size 1000x600 with 1 Axes>"
      ]
     },
     "metadata": {},
     "output_type": "display_data"
    }
   ],
   "source": [
    "fi,ax = plt.subplots(figsize=(10,6))\n",
    "sns.barplot(data=df_h,x='certification',y='revenue')\n",
    "formatter = FuncFormatter(lambda x, _: f\"${int(x / 1e6):,}M\")\n",
    "ax.yaxis.set_major_formatter(formatter);"
   ]
  },
  {
   "cell_type": "markdown",
   "id": "3b95c122-202a-4ed8-9876-fb0729a5ab61",
   "metadata": {},
   "source": [
    "- Date type: Numeric\n",
    "- More than 2 groups/samples (6 groups)\n",
    "\n",
    "**Choose to use ANOVA for hypothesis testing**"
   ]
  },
  {
   "cell_type": "markdown",
   "id": "58f32321-51de-48d0-a799-7c78701f09bb",
   "metadata": {},
   "source": [
    "Assumptions of ANOVA:\n",
    "\n",
    "- No significant outliers\n",
    "- Equal variance\n",
    "- Normality"
   ]
  },
  {
   "cell_type": "markdown",
   "id": "56519ac1-aecd-4110-9cd8-fd9a96dc19b1",
   "metadata": {},
   "source": [
    "### Testing ANOVA Assumptions"
   ]
  },
  {
   "cell_type": "code",
   "execution_count": 104,
   "id": "c5595c34-260a-4075-9700-1987f5c0f04d",
   "metadata": {},
   "outputs": [
    {
     "data": {
      "text/plain": [
       "dict_keys(['R', 'PG-13', 'NR', 'NC-17', 'PG', 'G'])"
      ]
     },
     "execution_count": 104,
     "metadata": {},
     "output_type": "execute_result"
    }
   ],
   "source": [
    "# Create groups dicts\n",
    "groups = {}\n",
    "\n",
    "# Loop through all unique categories\n",
    "for certification in df_h['certification'].unique():\n",
    "    data = df_h.loc[df_h['certification']==certification,'revenue'].copy()\n",
    "    groups[certification]=data\n",
    "\n",
    "groups.keys()"
   ]
  },
  {
   "cell_type": "markdown",
   "id": "0b1bb34d-ae70-4968-aed9-c23edca4034a",
   "metadata": {},
   "source": [
    "#### Check for Outliers"
   ]
  },
  {
   "cell_type": "code",
   "execution_count": 105,
   "id": "033e0120-5a3c-46e9-9589-83c075c2aa51",
   "metadata": {
    "scrolled": true
   },
   "outputs": [
    {
     "name": "stdout",
     "output_type": "stream",
     "text": [
      "- For R, there were 31 outliers removed.\n",
      "- For PG-13, there were 21 outliers removed.\n",
      "- For NR, there were 8 outliers removed.\n",
      "- For NC-17, there were 1 outliers removed.\n",
      "- For PG, there were 6 outliers removed.\n",
      "- For G, there were 1 outliers removed.\n"
     ]
    },
    {
     "data": {
      "text/plain": [
       "dict_keys(['R', 'PG-13', 'NR', 'NC-17', 'PG', 'G'])"
      ]
     },
     "execution_count": 105,
     "metadata": {},
     "output_type": "execute_result"
    }
   ],
   "source": [
    "groups_clean= {}\n",
    "\n",
    "for group,data in groups.items():\n",
    "    outliers=np.abs(stats.zscore(data))>3\n",
    "    n_outliers=np.sum(outliers)\n",
    "\n",
    "    print(f\"- For {group}, there were {n_outliers} outliers removed.\")\n",
    "    clean_data = data[~outliers]\n",
    "    groups_clean[group] = clean_data\n",
    "\n",
    "groups_clean.keys()\n"
   ]
  },
  {
   "cell_type": "markdown",
   "id": "e9e39120-513f-4abb-a44f-1ee5be3d6eb0",
   "metadata": {},
   "source": [
    "#### Check for Normalityn"
   ]
  },
  {
   "cell_type": "code",
   "execution_count": 106,
   "id": "0179f547-7109-4e6f-be6d-b998a3e47583",
   "metadata": {},
   "outputs": [
    {
     "data": {
      "text/html": [
       "<div>\n",
       "<style scoped>\n",
       "    .dataframe tbody tr th:only-of-type {\n",
       "        vertical-align: middle;\n",
       "    }\n",
       "\n",
       "    .dataframe tbody tr th {\n",
       "        vertical-align: top;\n",
       "    }\n",
       "\n",
       "    .dataframe thead th {\n",
       "        text-align: right;\n",
       "    }\n",
       "</style>\n",
       "<table border=\"1\" class=\"dataframe\">\n",
       "  <thead>\n",
       "    <tr style=\"text-align: right;\">\n",
       "      <th></th>\n",
       "      <th>group</th>\n",
       "      <th>n</th>\n",
       "      <th>p</th>\n",
       "      <th>test stat</th>\n",
       "      <th>sig?</th>\n",
       "    </tr>\n",
       "  </thead>\n",
       "  <tbody>\n",
       "    <tr>\n",
       "      <th>0</th>\n",
       "      <td>R</td>\n",
       "      <td>1409</td>\n",
       "      <td>2.188625e-299</td>\n",
       "      <td>1375.379339</td>\n",
       "      <td>True</td>\n",
       "    </tr>\n",
       "    <tr>\n",
       "      <th>1</th>\n",
       "      <td>PG-13</td>\n",
       "      <td>708</td>\n",
       "      <td>2.130685e-141</td>\n",
       "      <td>647.816109</td>\n",
       "      <td>True</td>\n",
       "    </tr>\n",
       "    <tr>\n",
       "      <th>2</th>\n",
       "      <td>NR</td>\n",
       "      <td>1221</td>\n",
       "      <td>0.000000e+00</td>\n",
       "      <td>2062.285611</td>\n",
       "      <td>True</td>\n",
       "    </tr>\n",
       "    <tr>\n",
       "      <th>3</th>\n",
       "      <td>NC-17</td>\n",
       "      <td>50</td>\n",
       "      <td>4.312673e-19</td>\n",
       "      <td>84.575118</td>\n",
       "      <td>True</td>\n",
       "    </tr>\n",
       "    <tr>\n",
       "      <th>4</th>\n",
       "      <td>PG</td>\n",
       "      <td>385</td>\n",
       "      <td>2.132682e-65</td>\n",
       "      <td>297.821302</td>\n",
       "      <td>True</td>\n",
       "    </tr>\n",
       "    <tr>\n",
       "      <th>5</th>\n",
       "      <td>G</td>\n",
       "      <td>133</td>\n",
       "      <td>6.379229e-53</td>\n",
       "      <td>240.367925</td>\n",
       "      <td>True</td>\n",
       "    </tr>\n",
       "  </tbody>\n",
       "</table>\n",
       "</div>"
      ],
      "text/plain": [
       "   group     n              p    test stat  sig?\n",
       "0      R  1409  2.188625e-299  1375.379339  True\n",
       "1  PG-13   708  2.130685e-141   647.816109  True\n",
       "2     NR  1221   0.000000e+00  2062.285611  True\n",
       "3  NC-17    50   4.312673e-19    84.575118  True\n",
       "4     PG   385   2.132682e-65   297.821302  True\n",
       "5      G   133   6.379229e-53   240.367925  True"
      ]
     },
     "execution_count": 106,
     "metadata": {},
     "output_type": "execute_result"
    }
   ],
   "source": [
    "norm_results=[]\n",
    "for group, data in groups_clean.items():\n",
    "    stat,p=stats.normaltest(data)\n",
    "    norm_results.append({'group':group,'n':len(data),'p':p,'test stat':stat,'sig?':p<0.05})\n",
    "norm_results_df=pd.DataFrame(norm_results)\n",
    "norm_results_df"
   ]
  },
  {
   "cell_type": "markdown",
   "id": "f70472aa-71eb-4c57-a1fa-28cec19fb8b5",
   "metadata": {},
   "source": [
    "- None of the groups are normally distributed, BUT our groups are greater than n=15 so we can safely disregard the assumption of normality."
   ]
  },
  {
   "cell_type": "markdown",
   "id": "eec75b30-4cf9-4dcd-bbd9-e620b47162dd",
   "metadata": {},
   "source": [
    "#### Test for Equal Variance"
   ]
  },
  {
   "cell_type": "code",
   "execution_count": 107,
   "id": "052ed87b-4b93-4674-a6f9-2a7edca01dfe",
   "metadata": {},
   "outputs": [
    {
     "data": {
      "text/plain": [
       "LeveneResult(statistic=53.07411328517931, pvalue=1.8810824223992405e-53)"
      ]
     },
     "execution_count": 107,
     "metadata": {},
     "output_type": "execute_result"
    }
   ],
   "source": [
    "res = stats.levene(*groups_clean.values())\n",
    "res"
   ]
  },
  {
   "cell_type": "markdown",
   "id": "d2209c09-9b06-49cb-a748-1d96710a9730",
   "metadata": {},
   "source": [
    "- The null hypothiese of the Levene's test is that the samples DO have equal variance\n",
    "    - Therefore, our significant p-value indicates that we do NOT have equal varince\n",
    "    - Therefore we will run the Kruskal-Wallis test instead of the ANOVA test."
   ]
  },
  {
   "cell_type": "markdown",
   "id": "5c09aff6-304f-484e-b710-f0cad4d64766",
   "metadata": {},
   "source": [
    "### Final Hypothiese Teste"
   ]
  },
  {
   "cell_type": "code",
   "execution_count": 111,
   "id": "a582d1f3-1905-4fa1-9826-e3ccb3bf9322",
   "metadata": {},
   "outputs": [
    {
     "data": {
      "text/plain": [
       "KruskalResult(statistic=339.5858085386635, pvalue=3.0545885357113232e-71)"
      ]
     },
     "execution_count": 111,
     "metadata": {},
     "output_type": "execute_result"
    }
   ],
   "source": [
    "res = stats.kruskal(*groups_clean.values())\n",
    "res"
   ]
  },
  {
   "cell_type": "code",
   "execution_count": 112,
   "id": "9e6773b2-2453-41fe-8baa-fb8b22213a89",
   "metadata": {},
   "outputs": [
    {
     "data": {
      "text/plain": [
       "True"
      ]
     },
     "execution_count": 112,
     "metadata": {},
     "output_type": "execute_result"
    }
   ],
   "source": [
    "res.pvalue<0.05"
   ]
  },
  {
   "cell_type": "markdown",
   "id": "e0c59570-531a-4646-83c6-8dd9f95cb120",
   "metadata": {},
   "source": [
    "**Our p-value is less than alpha 0.05, so in conclusion the MPAA ratings of a movie DOES affect the revenue the movie generates.**"
   ]
  },
  {
   "cell_type": "markdown",
   "id": "254ab24f-d552-4028-8944-60e81c37542f",
   "metadata": {},
   "source": [
    "### Do movies that are over 2.5 hours(150mins) long earn more revenue than movies that are 1.5 hours (90mins)long (or less)?"
   ]
  },
  {
   "cell_type": "markdown",
   "id": "f878c1ca-2619-4db1-833b-b723bb2fd371",
   "metadata": {},
   "source": [
    "**State the Hypothesis and Null Hypothesis**\n",
    "\n",
    "- Null Hypothesis: Movies over 150 minutes earn the same revenue as the movies that are less than 90 minutes long.\n",
    "- Alternative Hypothesis: There is a dfferent in revenue between movies that are over 150 minutes and movies that are less than 90 minutes long."
   ]
  },
  {
   "cell_type": "code",
   "execution_count": null,
   "id": "f10d4a79-33b8-4461-bff4-485affd3c316",
   "metadata": {},
   "outputs": [],
   "source": []
  },
  {
   "cell_type": "code",
   "execution_count": 134,
   "id": "40d42277-35fa-435c-936e-2a79d7d0e760",
   "metadata": {},
   "outputs": [],
   "source": [
    "# Dropping rows with null values in 'revenue' and 'runtime' columns.\n",
    "df_2=df.dropna(subset=['revenue', 'runtime'])"
   ]
  },
  {
   "cell_type": "code",
   "execution_count": 135,
   "id": "11f74efb-132c-4542-9793-cf44fca4eef7",
   "metadata": {},
   "outputs": [],
   "source": [
    "# Create df for 2 groups\n",
    "movie_over=df_2.loc[df_2['runtime']>150].copy()\n",
    "movie_less=df_2.loc[df_2['runtime']<90].copy()\n",
    "movie_150=movie_over['revenue']\n",
    "movie_90=movie_less['revenue']"
   ]
  },
  {
   "cell_type": "code",
   "execution_count": 154,
   "id": "ac5ecf64-67f9-40a3-a15e-c43e14dcff0b",
   "metadata": {},
   "outputs": [],
   "source": [
    "combined_df = pd.concat([movie_over, movie_less], ignore_index=True)\n",
    "combined_df['movie_over150']=combined_df['runtime']>150"
   ]
  },
  {
   "cell_type": "code",
   "execution_count": 156,
   "id": "84178d9d-94d9-49ff-a023-3b3ac97609e0",
   "metadata": {},
   "outputs": [
    {
     "data": {
      "text/plain": [
       "False    7969\n",
       "True      480\n",
       "Name: movie_over150, dtype: int64"
      ]
     },
     "execution_count": 156,
     "metadata": {},
     "output_type": "execute_result"
    }
   ],
   "source": [
    "combined_df['movie_over150'].value_counts()"
   ]
  },
  {
   "cell_type": "code",
   "execution_count": 138,
   "id": "ea6372f8-c148-4802-8048-d6b4bb62505a",
   "metadata": {},
   "outputs": [
    {
     "name": "stdout",
     "output_type": "stream",
     "text": [
      "<class 'pandas.core.frame.DataFrame'>\n",
      "RangeIndex: 8449 entries, 0 to 8448\n",
      "Data columns (total 27 columns):\n",
      " #   Column                 Non-Null Count  Dtype  \n",
      "---  ------                 --------------  -----  \n",
      " 0   imdb_id                8449 non-null   object \n",
      " 1   adult                  8449 non-null   float64\n",
      " 2   backdrop_path          5701 non-null   object \n",
      " 3   belongs_to_collection  426 non-null    object \n",
      " 4   budget                 8449 non-null   float64\n",
      " 5   genres                 8449 non-null   object \n",
      " 6   homepage               1963 non-null   object \n",
      " 7   id                     8449 non-null   float64\n",
      " 8   original_language      8449 non-null   object \n",
      " 9   original_title         8449 non-null   object \n",
      " 10  overview               8192 non-null   object \n",
      " 11  popularity             8449 non-null   float64\n",
      " 12  poster_path            8182 non-null   object \n",
      " 13  production_companies   8449 non-null   object \n",
      " 14  production_countries   8449 non-null   object \n",
      " 15  release_date           8180 non-null   object \n",
      " 16  revenue                8449 non-null   float64\n",
      " 17  runtime                8449 non-null   float64\n",
      " 18  spoken_languages       8449 non-null   object \n",
      " 19  status                 8449 non-null   object \n",
      " 20  tagline                2877 non-null   object \n",
      " 21  title                  8449 non-null   object \n",
      " 22  video                  8449 non-null   float64\n",
      " 23  vote_average           8449 non-null   float64\n",
      " 24  vote_count             8449 non-null   float64\n",
      " 25  certification          1277 non-null   object \n",
      " 26  movie_over90           8449 non-null   bool   \n",
      "dtypes: bool(1), float64(9), object(17)\n",
      "memory usage: 1.7+ MB\n"
     ]
    }
   ],
   "source": [
    "combined_df.info()"
   ]
  },
  {
   "cell_type": "code",
   "execution_count": 157,
   "id": "fbe12e81-bbec-414e-be7f-b873f7cdc5e9",
   "metadata": {},
   "outputs": [
    {
     "data": {
      "image/png": "[encoded data removed]",
      "text/plain": [
       "<Figure size 1200x400 with 1 Axes>"
      ]
     },
     "metadata": {},
     "output_type": "display_data"
    }
   ],
   "source": [
    "## Visualizing Sample means\n",
    "fig, ax = plt.subplots(figsize= (12,4))\n",
    "## Barplot\n",
    "sns.barplot(data=combined_df, x='movie_over150',y='revenue')\n",
    "fig.suptitle('Charges for smokers vs. nons-smokers',fontsize='xx-large')\n",
    "formatter = FuncFormatter(lambda x, _: f\"${int(x / 1e6):,}M\")\n",
    "ax.yaxis.set_major_formatter(formatter);"
   ]
  },
  {
   "cell_type": "markdown",
   "id": "662b251d-e323-4cb6-8798-6f8098aa6ca5",
   "metadata": {},
   "source": [
    "- Date type: Numeric\n",
    "- 2 groups/samples\n",
    "\n",
    "**Choose to use 2 sample ttest for hypothesis testing**"
   ]
  },
  {
   "cell_type": "markdown",
   "id": "dca169ef-ba9c-4f49-b10d-0dc9c26c8a46",
   "metadata": {},
   "source": [
    "Assumptions of 2-sample T-Test:\n",
    "\n",
    "- No significant outliers\n",
    "- Normality\n",
    "- Equal Variance"
   ]
  },
  {
   "cell_type": "markdown",
   "id": "16a462cf-16c9-45a7-9981-683b306e5080",
   "metadata": {},
   "source": [
    "### Testing 2-sample T-test Assumptions"
   ]
  },
  {
   "cell_type": "markdown",
   "id": "b5064852-d326-4e7c-8c6b-fbc6bfba6928",
   "metadata": {},
   "source": [
    "#### Check for Outliers"
   ]
  },
  {
   "cell_type": "code",
   "execution_count": 158,
   "id": "7c14cbe1-70d9-4d51-801b-e2c1eac7fbcd",
   "metadata": {},
   "outputs": [
    {
     "data": {
      "text/plain": [
       "7"
      ]
     },
     "execution_count": 158,
     "metadata": {},
     "output_type": "execute_result"
    }
   ],
   "source": [
    "#Find and remove outliers for movies over 150mins\n",
    "zscores=stats.zscore(movie_150)\n",
    "outliers=abs(zscores)>3\n",
    "np.sum(outliers)"
   ]
  },
  {
   "cell_type": "code",
   "execution_count": 159,
   "id": "c91d2931-61f3-4631-896b-b146815108e8",
   "metadata": {},
   "outputs": [],
   "source": [
    "movie_150=movie_150[~outliers]"
   ]
  },
  {
   "cell_type": "code",
   "execution_count": 160,
   "id": "c9db70de-1795-489f-84f0-5144bb4ab307",
   "metadata": {},
   "outputs": [
    {
     "data": {
      "text/plain": [
       "21"
      ]
     },
     "execution_count": 160,
     "metadata": {},
     "output_type": "execute_result"
    }
   ],
   "source": [
    "#Find and remove outliers for movies less than 90mins\n",
    "zscores=stats.zscore(movie_90)\n",
    "outliers=abs(zscores)>3\n",
    "np.sum(outliers)"
   ]
  },
  {
   "cell_type": "code",
   "execution_count": 161,
   "id": "06b3be38-01a5-439b-94fe-1ae2462d1bf8",
   "metadata": {},
   "outputs": [],
   "source": [
    "movie_90=movie_90[~outliers]"
   ]
  },
  {
   "cell_type": "markdown",
   "id": "999eeace-e900-4416-8861-c71b07e14c95",
   "metadata": {},
   "source": [
    "#### Check for Normality"
   ]
  },
  {
   "cell_type": "code",
   "execution_count": 163,
   "id": "35dfb1b7-93b9-43bc-b95b-aeb231cd8196",
   "metadata": {},
   "outputs": [
    {
     "data": {
      "text/plain": [
       "NormaltestResult(statistic=650.5233787623582, pvalue=5.503552671466178e-142)"
      ]
     },
     "execution_count": 163,
     "metadata": {},
     "output_type": "execute_result"
    }
   ],
   "source": [
    "# Normality check for movies over 150mins\n",
    "norm_res=stats.normaltest(movie_150)\n",
    "norm_res"
   ]
  },
  {
   "cell_type": "code",
   "execution_count": 164,
   "id": "45ac4137-7d1a-40c9-a4de-31023863ad6d",
   "metadata": {},
   "outputs": [
    {
     "data": {
      "text/plain": [
       "True"
      ]
     },
     "execution_count": 164,
     "metadata": {},
     "output_type": "execute_result"
    }
   ],
   "source": [
    "norm_res.pvalue<0.05"
   ]
  },
  {
   "cell_type": "markdown",
   "id": "978a1875-60b4-4198-97b3-bb591b0b5660",
   "metadata": {},
   "source": [
    "- Distribution of movies over 150mins is not normal."
   ]
  },
  {
   "cell_type": "code",
   "execution_count": 165,
   "id": "f4380edc-2bab-4b7a-86af-3cc6c6bb73c3",
   "metadata": {},
   "outputs": [
    {
     "data": {
      "text/plain": [
       "NormaltestResult(statistic=17724.297558855837, pvalue=0.0)"
      ]
     },
     "execution_count": 165,
     "metadata": {},
     "output_type": "execute_result"
    }
   ],
   "source": [
    "# Normality check for movies less than 90mins\n",
    "norm_res=stats.normaltest(movie_90)\n",
    "norm_res"
   ]
  },
  {
   "cell_type": "code",
   "execution_count": 166,
   "id": "731608fb-a324-4a84-9430-33f784be7112",
   "metadata": {},
   "outputs": [
    {
     "data": {
      "text/plain": [
       "True"
      ]
     },
     "execution_count": 166,
     "metadata": {},
     "output_type": "execute_result"
    }
   ],
   "source": [
    "norm_res.pvalue<0.05"
   ]
  },
  {
   "cell_type": "markdown",
   "id": "2cfb94fc-cb81-40cb-aa1a-0774ab417055",
   "metadata": {},
   "source": [
    "- Distribution of movies less than 90mins is not normal."
   ]
  },
  {
   "cell_type": "markdown",
   "id": "eb52f7c9-4730-40a0-aded-fe605ffb1e68",
   "metadata": {},
   "source": [
    "**Althought the distributions of the two groups are not normal, we can enough sample size in both groups to satisfy the assumption**"
   ]
  },
  {
   "cell_type": "markdown",
   "id": "ae3c4a51-aaf5-4922-9e63-cc89fb397727",
   "metadata": {},
   "source": [
    "#### Check for Equal Variance"
   ]
  },
  {
   "cell_type": "code",
   "execution_count": 167,
   "id": "a2e17539-6f24-422e-8436-a97670fbed84",
   "metadata": {},
   "outputs": [
    {
     "data": {
      "text/plain": [
       "LeveneResult(statistic=271.49476733379606, pvalue=4.641256303171335e-60)"
      ]
     },
     "execution_count": 167,
     "metadata": {},
     "output_type": "execute_result"
    }
   ],
   "source": [
    "result = stats.levene(movie_150,movie_90)\n",
    "result"
   ]
  },
  {
   "cell_type": "code",
   "execution_count": 168,
   "id": "149f451a-cabe-48d5-bc3a-e4ec71173a9b",
   "metadata": {},
   "outputs": [
    {
     "data": {
      "text/plain": [
       "True"
      ]
     },
     "execution_count": 168,
     "metadata": {},
     "output_type": "execute_result"
    }
   ],
   "source": [
    "result.pvalue<0.05"
   ]
  },
  {
   "cell_type": "markdown",
   "id": "0fbef896-1034-4ed6-aa6e-e2e1be4eebe8",
   "metadata": {},
   "source": [
    "- The null hypothesis of the Levene's test is that the samples DO have equal variance.\n",
    "\n",
    "- Therefore, our significant p-value indicates that we do NOT have equal varaince.\n",
    "- Therefore, we will run the Welch's t-test instead of the default (for scipy's ttest_ind change the equal_var argument to False)"
   ]
  },
  {
   "cell_type": "markdown",
   "id": "86422c3f-f0f6-4421-85d3-76e9b5e0abc2",
   "metadata": {},
   "source": [
    "### Final Hypothiese Teste"
   ]
  },
  {
   "cell_type": "code",
   "execution_count": 170,
   "id": "4d3b4b30-ae71-46ac-9220-3eb94913083c",
   "metadata": {},
   "outputs": [
    {
     "data": {
      "text/plain": [
       "Ttest_indResult(statistic=4.03307055129242, pvalue=6.41912059907918e-05)"
      ]
     },
     "execution_count": 170,
     "metadata": {},
     "output_type": "execute_result"
    }
   ],
   "source": [
    "# Since not equal variances, set equal_var =False\n",
    "result = stats.ttest_ind(movie_150,movie_90,equal_var=False)\n",
    "result"
   ]
  },
  {
   "cell_type": "code",
   "execution_count": 171,
   "id": "f363f837-4687-45bd-acf4-dc95c7f115a4",
   "metadata": {},
   "outputs": [
    {
     "data": {
      "text/plain": [
       "True"
      ]
     },
     "execution_count": 171,
     "metadata": {},
     "output_type": "execute_result"
    }
   ],
   "source": [
    "result.pvalue<0.05"
   ]
  },
  {
   "cell_type": "markdown",
   "id": "15299ecf-f6bb-4c48-9090-6e00687591d7",
   "metadata": {},
   "source": [
    "- Our Welch's T-Test returns a p-value < .05 therefore we can reject the null hypothesis and support the alternative hypothesis that There is a significant difference in revenue for movies that are over 150 mins and movies that are less than 90 mins.\n",
    "- In order to know which group has the higher or lower revenue, we look at the actual means of our final groups."
   ]
  },
  {
   "cell_type": "code",
   "execution_count": 172,
   "id": "4e04d3b4-fa80-457b-8dc7-bf9d9a04d1e2",
   "metadata": {},
   "outputs": [
    {
     "data": {
      "image/png": "[encoded data removed]",
      "text/plain": [
       "<Figure size 640x480 with 1 Axes>"
      ]
     },
     "metadata": {},
     "output_type": "display_data"
    }
   ],
   "source": [
    "plt.bar(['Moives Over 150mins','Movies Less than 90mins'],[movie_150.mean(),movie_90.mean()]);"
   ]
  },
  {
   "cell_type": "markdown",
   "id": "497cf5ea-585c-408b-9756-b335849d02d6",
   "metadata": {},
   "source": [
    "**Movies over 150 minutes have higher average revenue than movies that are less than 90 minutes.**"
   ]
  }
 ],
 "metadata": {
  "kernelspec": {
   "display_name": "Python (dojo-env)",
   "language": "python",
   "name": "dojo-env"
  },
  "language_info": {
   "codemirror_mode": {
    "name": "ipython",
    "version": 3
   },
   "file_extension": ".py",
   "mimetype": "text/x-python",
   "name": "python",
   "nbconvert_exporter": "python",
   "pygments_lexer": "ipython3",
   "version": "3.10.10"
  },
  "widgets": {
   "application/vnd.jupyter.widget-state+json": {
    "state": {},
    "version_major": 2,
    "version_minor": 0
   }
  }
 },
 "nbformat": 4,
 "nbformat_minor": 5
}
