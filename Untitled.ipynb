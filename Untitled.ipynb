{
 "cells": [
  {
   "cell_type": "code",
   "execution_count": 2,
   "id": "38e76f4e-651e-49c5-96c9-1d89f10f2006",
   "metadata": {},
   "outputs": [],
   "source": [
    "import os, time, json\n",
    "import tmdbsimple as tmdb\n",
    "import pandas as pd\n",
    "from tqdm.notebook import tqdm_notebook"
   ]
  },
  {
   "cell_type": "code",
   "execution_count": 14,
   "id": "ed09d902-2bbf-415b-89fe-902c71b47005",
   "metadata": {},
   "outputs": [
    {
     "data": {
      "text/plain": [
       "dict_keys(['api-key', 'API Read Access Token'])"
      ]
     },
     "execution_count": 14,
     "metadata": {},
     "output_type": "execute_result"
    }
   ],
   "source": [
    "with open('/Users/kellyji/.secret/tmdb_api.json','r') as f:\n",
    "    login=json.load(f)\n",
    "\n",
    "login.keys()"
   ]
  },
  {
   "cell_type": "code",
   "execution_count": 23,
   "id": "334a5ca2-b2ce-4ecd-91fd-0a1de7ce5999",
   "metadata": {},
   "outputs": [],
   "source": [
    "import tmdbsimple as tmdb\n",
    "tmdb.API_KEY = login['api-key']"
   ]
  },
  {
   "cell_type": "code",
   "execution_count": 13,
   "id": "5b46b847-0059-4ecc-be04-f8d097aab4da",
   "metadata": {},
   "outputs": [
    {
     "data": {
      "text/html": [
       "<div>\n",
       "<style scoped>\n",
       "    .dataframe tbody tr th:only-of-type {\n",
       "        vertical-align: middle;\n",
       "    }\n",
       "\n",
       "    .dataframe tbody tr th {\n",
       "        vertical-align: top;\n",
       "    }\n",
       "\n",
       "    .dataframe thead th {\n",
       "        text-align: right;\n",
       "    }\n",
       "</style>\n",
       "<table border=\"1\" class=\"dataframe\">\n",
       "  <thead>\n",
       "    <tr style=\"text-align: right;\">\n",
       "      <th></th>\n",
       "      <th>tconst</th>\n",
       "      <th>titleType</th>\n",
       "      <th>primaryTitle</th>\n",
       "      <th>originalTitle</th>\n",
       "      <th>isAdult</th>\n",
       "      <th>startYear</th>\n",
       "      <th>endYear</th>\n",
       "      <th>runtimeMinutes</th>\n",
       "      <th>genres</th>\n",
       "    </tr>\n",
       "  </thead>\n",
       "  <tbody>\n",
       "    <tr>\n",
       "      <th>0</th>\n",
       "      <td>tt0035423</td>\n",
       "      <td>movie</td>\n",
       "      <td>Kate &amp; Leopold</td>\n",
       "      <td>Kate &amp; Leopold</td>\n",
       "      <td>0</td>\n",
       "      <td>2001.0</td>\n",
       "      <td>NaN</td>\n",
       "      <td>118</td>\n",
       "      <td>Comedy,Fantasy,Romance</td>\n",
       "    </tr>\n",
       "    <tr>\n",
       "      <th>1</th>\n",
       "      <td>tt0062336</td>\n",
       "      <td>movie</td>\n",
       "      <td>The Tango of the Widower and Its Distorting Mi...</td>\n",
       "      <td>El tango del viudo y su espejo deformante</td>\n",
       "      <td>0</td>\n",
       "      <td>2020.0</td>\n",
       "      <td>NaN</td>\n",
       "      <td>70</td>\n",
       "      <td>Drama</td>\n",
       "    </tr>\n",
       "    <tr>\n",
       "      <th>2</th>\n",
       "      <td>tt0069049</td>\n",
       "      <td>movie</td>\n",
       "      <td>The Other Side of the Wind</td>\n",
       "      <td>The Other Side of the Wind</td>\n",
       "      <td>0</td>\n",
       "      <td>2018.0</td>\n",
       "      <td>NaN</td>\n",
       "      <td>122</td>\n",
       "      <td>Drama</td>\n",
       "    </tr>\n",
       "    <tr>\n",
       "      <th>3</th>\n",
       "      <td>tt0088751</td>\n",
       "      <td>movie</td>\n",
       "      <td>The Naked Monster</td>\n",
       "      <td>The Naked Monster</td>\n",
       "      <td>0</td>\n",
       "      <td>2005.0</td>\n",
       "      <td>NaN</td>\n",
       "      <td>100</td>\n",
       "      <td>Comedy,Horror,Sci-Fi</td>\n",
       "    </tr>\n",
       "    <tr>\n",
       "      <th>4</th>\n",
       "      <td>tt0096056</td>\n",
       "      <td>movie</td>\n",
       "      <td>Crime and Punishment</td>\n",
       "      <td>Crime and Punishment</td>\n",
       "      <td>0</td>\n",
       "      <td>2002.0</td>\n",
       "      <td>NaN</td>\n",
       "      <td>126</td>\n",
       "      <td>Drama</td>\n",
       "    </tr>\n",
       "  </tbody>\n",
       "</table>\n",
       "</div>"
      ],
      "text/plain": [
       "      tconst titleType                                       primaryTitle  \\\n",
       "0  tt0035423     movie                                     Kate & Leopold   \n",
       "1  tt0062336     movie  The Tango of the Widower and Its Distorting Mi...   \n",
       "2  tt0069049     movie                         The Other Side of the Wind   \n",
       "3  tt0088751     movie                                  The Naked Monster   \n",
       "4  tt0096056     movie                               Crime and Punishment   \n",
       "\n",
       "                               originalTitle  isAdult  startYear  endYear  \\\n",
       "0                             Kate & Leopold        0     2001.0      NaN   \n",
       "1  El tango del viudo y su espejo deformante        0     2020.0      NaN   \n",
       "2                 The Other Side of the Wind        0     2018.0      NaN   \n",
       "3                          The Naked Monster        0     2005.0      NaN   \n",
       "4                       Crime and Punishment        0     2002.0      NaN   \n",
       "\n",
       "   runtimeMinutes                  genres  \n",
       "0             118  Comedy,Fantasy,Romance  \n",
       "1              70                   Drama  \n",
       "2             122                   Drama  \n",
       "3             100    Comedy,Horror,Sci-Fi  \n",
       "4             126                   Drama  "
      ]
     },
     "execution_count": 13,
     "metadata": {},
     "output_type": "execute_result"
    }
   ],
   "source": [
    "basics=pd.read_csv('Data/basics.csv')\n",
    "basics.head()"
   ]
  },
  {
   "cell_type": "code",
   "execution_count": 3,
   "id": "22f3fe75-2b93-48e0-96d1-acbca7a385a2",
   "metadata": {},
   "outputs": [
    {
     "data": {
      "text/plain": [
       "[]"
      ]
     },
     "execution_count": 3,
     "metadata": {},
     "output_type": "execute_result"
    }
   ],
   "source": [
    "FOLDER=\"Data/Hypothesis_Testing_data/\"\n",
    "os.makedirs(FOLDER, exist_ok=True)\n",
    "os.listdir(FOLDER)"
   ]
  },
  {
   "cell_type": "code",
   "execution_count": 4,
   "id": "65973f82-8091-4f3c-8aff-ef8ed7b2bbec",
   "metadata": {},
   "outputs": [],
   "source": [
    "def get_movie_with_rating(movie_id):\n",
    "    movie = tmdb.Movies(movie_id)\n",
    "    \n",
    "    movie_info = movie.info()\n",
    "    releases = movie.releases()\n",
    "    \n",
    "    for c in releases['countries']:\n",
    "        if c['iso_3166_1' ] =='US':\n",
    "            movie_info['certification'] = c['certification']\n",
    "    return movie_info\n",
    "\n",
    "\n",
    "def write_json(new_data, filename): \n",
    "    \"\"\"Appends a list of records (new_data) to a json file (filename). \n",
    "    Adapted from: https://www.geeksforgeeks.org/append-to-json-file-using-python/\"\"\"  \n",
    "    \n",
    "    with open(filename,'r+') as file:\n",
    "        file_data = json.load(file)\n",
    "        if (type(new_data) == list) & (type(file_data) == list):\n",
    "            file_data.extend(new_data)\n",
    "        else:\n",
    "             file_data.append(new_data)\n",
    "        file.seek(0)\n",
    "        json.dump(file_data, file)"
   ]
  },
  {
   "cell_type": "code",
   "execution_count": 32,
   "id": "585c9c92-14b9-4bfe-b1d4-02621f5592e0",
   "metadata": {},
   "outputs": [],
   "source": [
    "YEARS_TO_GET=list(range(2018, 2023))"
   ]
  },
  {
   "cell_type": "code",
   "execution_count": 33,
   "id": "6fee760b-3261-45b6-a3be-1e877d4e84d1",
   "metadata": {},
   "outputs": [
    {
     "data": {
      "application/vnd.jupyter.widget-view+json": {
       "model_id": "5264b4a6b851408eaff7c7b59423469d",
       "version_major": 2,
       "version_minor": 0
      },
      "text/plain": [
       "YEARS:   0%|          | 0/5 [00:00<?, ?it/s]"
      ]
     },
     "metadata": {},
     "output_type": "display_data"
    },
    {
     "name": "stdout",
     "output_type": "stream",
     "text": [
      "The file Data/Hypothesis_Testing_data/tmdb_api_results_2018.json already exists.\n"
     ]
    },
    {
     "data": {
      "application/vnd.jupyter.widget-view+json": {
       "model_id": "3701ce52ad2f4e0985b54bf49e52a82f",
       "version_major": 2,
       "version_minor": 0
      },
      "text/plain": [
       "Movies from 2018:   0%|          | 0/5785 [00:00<?, ?it/s]"
      ]
     },
     "metadata": {},
     "output_type": "display_data"
    },
    {
     "name": "stdout",
     "output_type": "stream",
     "text": [
      "CreatingData/Hypothesis_Testing_data/tmdb_api_results_2019.json for API results for year = 2019.\n"
     ]
    },
    {
     "data": {
      "application/vnd.jupyter.widget-view+json": {
       "model_id": "6bb078a9ba214845a94919fc920f64e5",
       "version_major": 2,
       "version_minor": 0
      },
      "text/plain": [
       "Movies from 2019:   0%|          | 0/5877 [00:00<?, ?it/s]"
      ]
     },
     "metadata": {},
     "output_type": "display_data"
    },
    {
     "name": "stdout",
     "output_type": "stream",
     "text": [
      "CreatingData/Hypothesis_Testing_data/tmdb_api_results_2020.json for API results for year = 2020.\n"
     ]
    },
    {
     "data": {
      "application/vnd.jupyter.widget-view+json": {
       "model_id": "025ffe338945414599de159bb6a7ca62",
       "version_major": 2,
       "version_minor": 0
      },
      "text/plain": [
       "Movies from 2020:   0%|          | 0/5010 [00:00<?, ?it/s]"
      ]
     },
     "metadata": {},
     "output_type": "display_data"
    },
    {
     "name": "stdout",
     "output_type": "stream",
     "text": [
      "CreatingData/Hypothesis_Testing_data/tmdb_api_results_2021.json for API results for year = 2021.\n"
     ]
    },
    {
     "data": {
      "application/vnd.jupyter.widget-view+json": {
       "model_id": "d0d3a038e3d54308b935abfd626c9bdb",
       "version_major": 2,
       "version_minor": 0
      },
      "text/plain": [
       "Movies from 2021:   0%|          | 0/5163 [00:00<?, ?it/s]"
      ]
     },
     "metadata": {},
     "output_type": "display_data"
    },
    {
     "name": "stdout",
     "output_type": "stream",
     "text": [
      "CreatingData/Hypothesis_Testing_data/tmdb_api_results_2022.json for API results for year = 2022.\n"
     ]
    },
    {
     "data": {
      "application/vnd.jupyter.widget-view+json": {
       "model_id": "e39e9666f4c04e14a2c7137fb7c61b58",
       "version_major": 2,
       "version_minor": 0
      },
      "text/plain": [
       "Movies from 2022:   0%|          | 0/5073 [00:00<?, ?it/s]"
      ]
     },
     "metadata": {},
     "output_type": "display_data"
    }
   ],
   "source": [
    "# Start of OUTER loop\n",
    "for YEAR in tqdm_notebook(YEARS_TO_GET, desc='YEARS', position=0):\n",
    "    JSON_FILE_YEAR = f'{FOLDER}tmdb_api_results_{YEAR}.json'\n",
    "    file_exists = os.path.isfile(JSON_FILE_YEAR)\n",
    "\n",
    "    if file_exists == False:\n",
    "        print(f'Creating{JSON_FILE_YEAR} for API results for year = {YEAR}.')\n",
    "        with open (JSON_FILE_YEAR, 'w') as f:\n",
    "            json.dump([{'imdb_id':0}],f)\n",
    "\n",
    "    else:\n",
    "        print(f'The file {JSON_FILE_YEAR} already exists.')\n",
    "\n",
    "    df_year = basics.loc[basics['startYear'] == YEAR].copy()\n",
    "    movie_ids = df_year['tconst']\n",
    "        \n",
    "        # Create an empty list to store movie information\n",
    "    movie_info_list = []\n",
    "    errors=[]    \n",
    "        # Iterate over movie IDs for the current year\n",
    "    for movie_id in tqdm_notebook(movie_ids, f'Movies from {YEAR}'):\n",
    "        try:\n",
    "            temp = get_movie_with_rating(movie_id)\n",
    "            movie_info_list.append(temp)\n",
    "            time.sleep(0.02)\n",
    "        except Exception as e:\n",
    "            errors.append([movie_id, e])\n",
    "        \n",
    "        # Write the movie information to the JSON file\n",
    "    write_json(movie_info_list, JSON_FILE_YEAR)\n",
    "\n",
    "    final_year_df2 = pd.read_json(JSON_FILE_YEAR)\n",
    "    csv_fname = f'{FOLDER}final_tmdb_data_{YEAR}.csv.gz'\n",
    "    final_year_df2.to_csv(csv_fname, compression='gzip', index=False)"
   ]
  }
 ],
 "metadata": {
  "kernelspec": {
   "display_name": "Python (dojo-env)",
   "language": "python",
   "name": "dojo-env"
  },
  "language_info": {
   "codemirror_mode": {
    "name": "ipython",
    "version": 3
   },
   "file_extension": ".py",
   "mimetype": "text/x-python",
   "name": "python",
   "nbconvert_exporter": "python",
   "pygments_lexer": "ipython3",
   "version": "3.10.10"
  },
  "widgets": {
   "application/vnd.jupyter.widget-state+json": {
    "state": {
     "025ffe338945414599de159bb6a7ca62": {
      "model_module": "@jupyter-widgets/controls",
      "model_module_version": "2.0.0",
      "model_name": "HBoxModel",
      "state": {
       "children": [
        "IPY_MODEL_09e76f88822b4468af2b125d15479dc5",
        "IPY_MODEL_1847d90a861544aa93bcd6191e6c8ed7",
        "IPY_MODEL_cc3bfa627fe84481a417f04ce3284d9a"
       ],
       "layout": "IPY_MODEL_7183c1198c044f38828a5dc902b6afc1"
      }
     },
     "026f8508c38c42b0983d1a578e7108a8": {
      "model_module": "@jupyter-widgets/controls",
      "model_module_version": "2.0.0",
      "model_name": "FloatProgressModel",
      "state": {
       "bar_style": "danger",
       "layout": "IPY_MODEL_383917149a1a4b429d009aeb8fcb47df",
       "max": 10,
       "style": "IPY_MODEL_966b3cc693ec4e0d955401e8baf9d90a"
      }
     },
     "035be19b60db459eb45ace6b31a5079c": {
      "model_module": "@jupyter-widgets/base",
      "model_module_version": "2.0.0",
      "model_name": "LayoutModel",
      "state": {}
     },
     "0369efa1e4374f96ba327ba277fc0ea0": {
      "model_module": "@jupyter-widgets/controls",
      "model_module_version": "2.0.0",
      "model_name": "HTMLStyleModel",
      "state": {
       "description_width": "",
       "font_size": null,
       "text_color": null
      }
     },
     "061b5bea67524a28aa066da0272d8576": {
      "model_module": "@jupyter-widgets/base",
      "model_module_version": "2.0.0",
      "model_name": "LayoutModel",
      "state": {}
     },
     "078e7f79bde647aaadb7cc81a3d0ae4a": {
      "model_module": "@jupyter-widgets/controls",
      "model_module_version": "2.0.0",
      "model_name": "HTMLStyleModel",
      "state": {
       "description_width": "",
       "font_size": null,
       "text_color": null
      }
     },
     "079949852aed48d5bd1c1ebddf6ff38d": {
      "model_module": "@jupyter-widgets/controls",
      "model_module_version": "2.0.0",
      "model_name": "HTMLStyleModel",
      "state": {
       "description_width": "",
       "font_size": null,
       "text_color": null
      }
     },
     "0809aafbb9ee4fd49c95a6eddf0908d1": {
      "model_module": "@jupyter-widgets/base",
      "model_module_version": "2.0.0",
      "model_name": "LayoutModel",
      "state": {}
     },
     "0833e9b4d14343cda538e07d93c55fbb": {
      "model_module": "@jupyter-widgets/controls",
      "model_module_version": "2.0.0",
      "model_name": "HTMLModel",
      "state": {
       "layout": "IPY_MODEL_fe46fff5aadf44fd9c169629d0451be6",
       "style": "IPY_MODEL_f9a14388baf54b40b74bb312a44df733",
       "value": " 5073/5073 [25:28&lt;00:00,  2.90it/s]"
      }
     },
     "083c7cdf09c649638bd0a9258f07ba4a": {
      "model_module": "@jupyter-widgets/base",
      "model_module_version": "2.0.0",
      "model_name": "LayoutModel",
      "state": {}
     },
     "08a89846489146aebfdeb94c81745f5d": {
      "model_module": "@jupyter-widgets/base",
      "model_module_version": "2.0.0",
      "model_name": "LayoutModel",
      "state": {}
     },
     "095f5adf26364e8da1e9abae70d89359": {
      "model_module": "@jupyter-widgets/controls",
      "model_module_version": "2.0.0",
      "model_name": "HBoxModel",
      "state": {
       "children": [
        "IPY_MODEL_7b931791bb094ebd9579b1fa8b072e4f",
        "IPY_MODEL_c57999d4a3ac438ca5566bb60d017300",
        "IPY_MODEL_3b46cffa8aed47b793e931518a203d55"
       ],
       "layout": "IPY_MODEL_152229fc669e455088f80003dcd036cd"
      }
     },
     "09e76f88822b4468af2b125d15479dc5": {
      "model_module": "@jupyter-widgets/controls",
      "model_module_version": "2.0.0",
      "model_name": "HTMLModel",
      "state": {
       "layout": "IPY_MODEL_cb02eaf41a334233891080d2be9be2e2",
       "style": "IPY_MODEL_078e7f79bde647aaadb7cc81a3d0ae4a",
       "value": "Movies from 2020: 100%"
      }
     },
     "09f2d2f06efd4de9afc5ca2e0ea4d6b7": {
      "model_module": "@jupyter-widgets/controls",
      "model_module_version": "2.0.0",
      "model_name": "HTMLModel",
      "state": {
       "layout": "IPY_MODEL_33ea515ce8644e1cae23cfd44db987f5",
       "style": "IPY_MODEL_0e695ce59bdc4a208ec109a657b8ba92",
       "value": " 0/10 [11:27&lt;?, ?it/s]"
      }
     },
     "0bce9e4a7d554a85a0a85cf33d43c5eb": {
      "model_module": "@jupyter-widgets/controls",
      "model_module_version": "2.0.0",
      "model_name": "HBoxModel",
      "state": {
       "children": [
        "IPY_MODEL_fb3bcaf501d141e5bc4f592c5fb2c801",
        "IPY_MODEL_026f8508c38c42b0983d1a578e7108a8",
        "IPY_MODEL_3b5f9115049d48838b7abbc435f8341e"
       ],
       "layout": "IPY_MODEL_bfabd4d656804a18b582d114824b8340"
      }
     },
     "0c4b3d40828046a3b99ec54a5973dbf6": {
      "model_module": "@jupyter-widgets/controls",
      "model_module_version": "2.0.0",
      "model_name": "HTMLModel",
      "state": {
       "layout": "IPY_MODEL_34bebd0a48f943c8b82c460d4bc15465",
       "style": "IPY_MODEL_fa3823ff9cf745e5912bfee61a80277b",
       "value": " 944/5785 [04:21&lt;29:05,  2.77it/s]"
      }
     },
     "0c5e2cfa65a7491ab5e10d6b4d53a49a": {
      "model_module": "@jupyter-widgets/controls",
      "model_module_version": "2.0.0",
      "model_name": "HBoxModel",
      "state": {
       "children": [
        "IPY_MODEL_69bdf16a5dd64857b86b86ac0b50d365",
        "IPY_MODEL_654385283a0940f084fc4cf148ff76cf",
        "IPY_MODEL_dfc806ecaa814a5fa0f72799fbe9960c"
       ],
       "layout": "IPY_MODEL_1cb2ce34558f4c09ae74fa87e3446a5f"
      }
     },
     "0c5e98c7a3254d25beea3a60ddc8d4b6": {
      "model_module": "@jupyter-widgets/base",
      "model_module_version": "2.0.0",
      "model_name": "LayoutModel",
      "state": {}
     },
     "0c890edeb60e4e05ad44ebd4fc4470ae": {
      "model_module": "@jupyter-widgets/base",
      "model_module_version": "2.0.0",
      "model_name": "LayoutModel",
      "state": {}
     },
     "0ce64fed7014462c9ab7860f500d2382": {
      "model_module": "@jupyter-widgets/controls",
      "model_module_version": "2.0.0",
      "model_name": "FloatProgressModel",
      "state": {
       "bar_style": "success",
       "layout": "IPY_MODEL_3ed4871a614a409a81efb22f0ff644b9",
       "max": 5877,
       "style": "IPY_MODEL_872598667330441fa4bc8137f862f96b",
       "value": 5877
      }
     },
     "0e695ce59bdc4a208ec109a657b8ba92": {
      "model_module": "@jupyter-widgets/controls",
      "model_module_version": "2.0.0",
      "model_name": "HTMLStyleModel",
      "state": {
       "description_width": "",
       "font_size": null,
       "text_color": null
      }
     },
     "0efea400584f4e45b663034f8b6df6d9": {
      "model_module": "@jupyter-widgets/base",
      "model_module_version": "2.0.0",
      "model_name": "LayoutModel",
      "state": {}
     },
     "1180f1670cf24e068d25883aee0ee53b": {
      "model_module": "@jupyter-widgets/base",
      "model_module_version": "2.0.0",
      "model_name": "LayoutModel",
      "state": {}
     },
     "152229fc669e455088f80003dcd036cd": {
      "model_module": "@jupyter-widgets/base",
      "model_module_version": "2.0.0",
      "model_name": "LayoutModel",
      "state": {}
     },
     "156aebe394554215a6b20de20b7b4a00": {
      "model_module": "@jupyter-widgets/controls",
      "model_module_version": "2.0.0",
      "model_name": "HTMLModel",
      "state": {
       "layout": "IPY_MODEL_39c6153ec5e94f9c89fcbde6898b6228",
       "style": "IPY_MODEL_70e286f2a07a417d842eddd8c5ba4f56",
       "value": "Movies from 2022: 100%"
      }
     },
     "1591a8360c4b4a38a99fa481160fcebf": {
      "model_module": "@jupyter-widgets/base",
      "model_module_version": "2.0.0",
      "model_name": "LayoutModel",
      "state": {}
     },
     "15cb401ce091451ba39596f77646f943": {
      "model_module": "@jupyter-widgets/base",
      "model_module_version": "2.0.0",
      "model_name": "LayoutModel",
      "state": {}
     },
     "1847d90a861544aa93bcd6191e6c8ed7": {
      "model_module": "@jupyter-widgets/controls",
      "model_module_version": "2.0.0",
      "model_name": "FloatProgressModel",
      "state": {
       "bar_style": "success",
       "layout": "IPY_MODEL_b2a4d37e4e6d43f4a0072eed8a76e0b2",
       "max": 5010,
       "style": "IPY_MODEL_75f11563ae4c467a8ef0052126c6ce3b",
       "value": 5010
      }
     },
     "190b7c4d20664bfba21418692b4e1a7e": {
      "model_module": "@jupyter-widgets/controls",
      "model_module_version": "2.0.0",
      "model_name": "ProgressStyleModel",
      "state": {
       "description_width": ""
      }
     },
     "19b6b9ed765b44bab738f3d6c74ce2d9": {
      "model_module": "@jupyter-widgets/base",
      "model_module_version": "2.0.0",
      "model_name": "LayoutModel",
      "state": {}
     },
     "1a2b0a031da14bf8b4f10c89b578cda8": {
      "model_module": "@jupyter-widgets/controls",
      "model_module_version": "2.0.0",
      "model_name": "HBoxModel",
      "state": {
       "children": [
        "IPY_MODEL_77f8bc8870cd4fea9d780feb331bbd5b",
        "IPY_MODEL_cdf58edd37b145e491793456f0a77f30",
        "IPY_MODEL_679b13345e884043bd67941927bf874f"
       ],
       "layout": "IPY_MODEL_ccf83efa894446acad34cf50d8cf2b4a"
      }
     },
     "1ac906576e33479286cda270aeb9056d": {
      "model_module": "@jupyter-widgets/controls",
      "model_module_version": "2.0.0",
      "model_name": "FloatProgressModel",
      "state": {
       "bar_style": "danger",
       "layout": "IPY_MODEL_7b758b2f52264b0dbcafd339eb528580",
       "max": 10,
       "style": "IPY_MODEL_744f684f1fcf436b893d06c297116ffb"
      }
     },
     "1b421ad6b14a43ae98ca3c1252dfa48c": {
      "model_module": "@jupyter-widgets/base",
      "model_module_version": "2.0.0",
      "model_name": "LayoutModel",
      "state": {}
     },
     "1cb2ce34558f4c09ae74fa87e3446a5f": {
      "model_module": "@jupyter-widgets/base",
      "model_module_version": "2.0.0",
      "model_name": "LayoutModel",
      "state": {}
     },
     "1d453bbfe13a4f6894b5f31d908595ab": {
      "model_module": "@jupyter-widgets/base",
      "model_module_version": "2.0.0",
      "model_name": "LayoutModel",
      "state": {}
     },
     "1da2b76438964edeaef88f5e852524b5": {
      "model_module": "@jupyter-widgets/controls",
      "model_module_version": "2.0.0",
      "model_name": "HTMLModel",
      "state": {
       "layout": "IPY_MODEL_26ef11bad21843c6afe4186869500a9e",
       "style": "IPY_MODEL_91ad043b5cbb47919e5f358b1bfd7091",
       "value": "YEARS:   0%"
      }
     },
     "1edd737495bc4a838586d5e3e616234d": {
      "model_module": "@jupyter-widgets/controls",
      "model_module_version": "2.0.0",
      "model_name": "FloatProgressModel",
      "state": {
       "bar_style": "success",
       "layout": "IPY_MODEL_33f37dfa71ef4cdcb1dc40c6cf4c2b19",
       "max": 5073,
       "style": "IPY_MODEL_9d06a80cdece453dac69b887e9643542",
       "value": 5073
      }
     },
     "1f68c6da45f34af69c032c5ebbaf26c8": {
      "model_module": "@jupyter-widgets/controls",
      "model_module_version": "2.0.0",
      "model_name": "HTMLStyleModel",
      "state": {
       "description_width": "",
       "font_size": null,
       "text_color": null
      }
     },
     "1ff652c0240f4c6680c94f0869abd706": {
      "model_module": "@jupyter-widgets/controls",
      "model_module_version": "2.0.0",
      "model_name": "HTMLModel",
      "state": {
       "layout": "IPY_MODEL_61c76c1e1ab84facb71dc9fbc7ddf10e",
       "style": "IPY_MODEL_60cc3ccc12bb41089bf871f5bb74ec91",
       "value": " 0/4 [04:21&lt;?, ?it/s]"
      }
     },
     "20c59676f2064e0bba6e60f4218c22e5": {
      "model_module": "@jupyter-widgets/base",
      "model_module_version": "2.0.0",
      "model_name": "LayoutModel",
      "state": {}
     },
     "21bf260b94434d4daf656a9f932cf8e2": {
      "model_module": "@jupyter-widgets/base",
      "model_module_version": "2.0.0",
      "model_name": "LayoutModel",
      "state": {}
     },
     "24609e2ea5734aff893696fa515e4c11": {
      "model_module": "@jupyter-widgets/controls",
      "model_module_version": "2.0.0",
      "model_name": "HTMLStyleModel",
      "state": {
       "description_width": "",
       "font_size": null,
       "text_color": null
      }
     },
     "24c076ee819742949356d02ec35b0a4a": {
      "model_module": "@jupyter-widgets/controls",
      "model_module_version": "2.0.0",
      "model_name": "HBoxModel",
      "state": {
       "children": [
        "IPY_MODEL_f31aee8effe44d8d93a6c40d679a8be0",
        "IPY_MODEL_4f1047655df6470d83999b00f6212194",
        "IPY_MODEL_a462024727ba46c19c1fde1df3fe1846"
       ],
       "layout": "IPY_MODEL_2eab9c320ad94adeaaef907582063a02"
      }
     },
     "2540dc1016dc486da03086ef628210a4": {
      "model_module": "@jupyter-widgets/controls",
      "model_module_version": "2.0.0",
      "model_name": "HTMLStyleModel",
      "state": {
       "description_width": "",
       "font_size": null,
       "text_color": null
      }
     },
     "25b9971c12ad49f69525881a8fb60a8c": {
      "model_module": "@jupyter-widgets/controls",
      "model_module_version": "2.0.0",
      "model_name": "HTMLModel",
      "state": {
       "layout": "IPY_MODEL_b416ead42c6a496d90e49d3e3c2c85c0",
       "style": "IPY_MODEL_8e928eb5096141cc94f5b2395b39eaf6",
       "value": " 5785/5785 [27:19&lt;00:00,  5.01it/s]"
      }
     },
     "26abd2b4b00e4ffcb7424e6c1025182e": {
      "model_module": "@jupyter-widgets/controls",
      "model_module_version": "2.0.0",
      "model_name": "HBoxModel",
      "state": {
       "children": [
        "IPY_MODEL_b66b0d8b94a74861a72e8d07d5200c16",
        "IPY_MODEL_61f1604a1453499986d8910f2f5c1a83",
        "IPY_MODEL_c35885f383f4406cae0983e38cf85204"
       ],
       "layout": "IPY_MODEL_1180f1670cf24e068d25883aee0ee53b"
      }
     },
     "26ef11bad21843c6afe4186869500a9e": {
      "model_module": "@jupyter-widgets/base",
      "model_module_version": "2.0.0",
      "model_name": "LayoutModel",
      "state": {}
     },
     "282d56c9190e4a1e876f69895a6e4b02": {
      "model_module": "@jupyter-widgets/controls",
      "model_module_version": "2.0.0",
      "model_name": "FloatProgressModel",
      "state": {
       "bar_style": "danger",
       "layout": "IPY_MODEL_1b421ad6b14a43ae98ca3c1252dfa48c",
       "max": 10,
       "style": "IPY_MODEL_5ae7debed189446cbdb8d343205ff433"
      }
     },
     "287f5d0c00c04619aec95ff60595b14b": {
      "model_module": "@jupyter-widgets/controls",
      "model_module_version": "2.0.0",
      "model_name": "HBoxModel",
      "state": {
       "children": [
        "IPY_MODEL_92a434dc98b24e3ab58dc05e072263d5",
        "IPY_MODEL_5ad621ae2cf34211be398ad2b151fdba",
        "IPY_MODEL_8ba2d5cff1ce4ba2a14e96c81d444805"
       ],
       "layout": "IPY_MODEL_39a62a25654d4991bbbee91785d4c251"
      }
     },
     "2aa227c1478047fe8dcc74d29920ab60": {
      "model_module": "@jupyter-widgets/controls",
      "model_module_version": "2.0.0",
      "model_name": "HTMLModel",
      "state": {
       "layout": "IPY_MODEL_724127ee6f4248b4bd83e3e86bd82ebe",
       "style": "IPY_MODEL_9d8ebaa31761442ebd9cb36f439307ae",
       "value": " 3408/4229 [16:23&lt;06:37,  2.07it/s]"
      }
     },
     "2ab9ea711c53432491a0605c275c1f89": {
      "model_module": "@jupyter-widgets/controls",
      "model_module_version": "2.0.0",
      "model_name": "HTMLModel",
      "state": {
       "layout": "IPY_MODEL_9e9b3b144c8b4d849440ac57ecc98a69",
       "style": "IPY_MODEL_a24abfa9bc28434a85e1972e5d18b0a1",
       "value": " 0/10 [00:00&lt;?, ?it/s]"
      }
     },
     "2bb58d193aa04b85bf1c1f710bdfbfa4": {
      "model_module": "@jupyter-widgets/controls",
      "model_module_version": "2.0.0",
      "model_name": "FloatProgressModel",
      "state": {
       "bar_style": "success",
       "layout": "IPY_MODEL_9dde4a75d33d4ea9a373e09bacaae7f5",
       "max": 5,
       "style": "IPY_MODEL_53baf448dba74f1b863d648ebe4d15dc",
       "value": 5
      }
     },
     "2c8f6998d74d4edfba3b52918426de56": {
      "model_module": "@jupyter-widgets/base",
      "model_module_version": "2.0.0",
      "model_name": "LayoutModel",
      "state": {}
     },
     "2eab9c320ad94adeaaef907582063a02": {
      "model_module": "@jupyter-widgets/base",
      "model_module_version": "2.0.0",
      "model_name": "LayoutModel",
      "state": {}
     },
     "2f3a744d6d484bfc86629f5b18cba6f4": {
      "model_module": "@jupyter-widgets/controls",
      "model_module_version": "2.0.0",
      "model_name": "ProgressStyleModel",
      "state": {
       "description_width": ""
      }
     },
     "2f51fb8869bc4fd6bc463a2bc82b32e1": {
      "model_module": "@jupyter-widgets/base",
      "model_module_version": "2.0.0",
      "model_name": "LayoutModel",
      "state": {}
     },
     "2fb4b2b539d54da18d838bae425d561b": {
      "model_module": "@jupyter-widgets/controls",
      "model_module_version": "2.0.0",
      "model_name": "FloatProgressModel",
      "state": {
       "bar_style": "danger",
       "layout": "IPY_MODEL_bc429e5cb9d649c1be5b92d5289dcc30",
       "max": 5785,
       "style": "IPY_MODEL_c746da33d56949e4a4d78327fe5f1cc3",
       "value": 944
      }
     },
     "3013be81e2714abbb35ddb1bb2e5ae56": {
      "model_module": "@jupyter-widgets/controls",
      "model_module_version": "2.0.0",
      "model_name": "ProgressStyleModel",
      "state": {
       "description_width": ""
      }
     },
     "30995326a9f9480aae79b12951d5754c": {
      "model_module": "@jupyter-widgets/base",
      "model_module_version": "2.0.0",
      "model_name": "LayoutModel",
      "state": {}
     },
     "30d0c8e323d8437aab3f20f1a584dda5": {
      "model_module": "@jupyter-widgets/controls",
      "model_module_version": "2.0.0",
      "model_name": "FloatProgressModel",
      "state": {
       "bar_style": "danger",
       "layout": "IPY_MODEL_a611ececccdb4e47a5cf97796231d4aa",
       "max": 3862,
       "style": "IPY_MODEL_489090a7a8544b99ab70abbf9dfd2c02"
      }
     },
     "31b86c1076654c719abcb6167ac174b5": {
      "model_module": "@jupyter-widgets/base",
      "model_module_version": "2.0.0",
      "model_name": "LayoutModel",
      "state": {}
     },
     "33ea515ce8644e1cae23cfd44db987f5": {
      "model_module": "@jupyter-widgets/base",
      "model_module_version": "2.0.0",
      "model_name": "LayoutModel",
      "state": {}
     },
     "33f37dfa71ef4cdcb1dc40c6cf4c2b19": {
      "model_module": "@jupyter-widgets/base",
      "model_module_version": "2.0.0",
      "model_name": "LayoutModel",
      "state": {}
     },
     "3410fa47b1df4d68a0fb4ef43f95e476": {
      "model_module": "@jupyter-widgets/controls",
      "model_module_version": "2.0.0",
      "model_name": "HTMLModel",
      "state": {
       "layout": "IPY_MODEL_15cb401ce091451ba39596f77646f943",
       "style": "IPY_MODEL_ef4b3c601c164e598787e36319c2ea72",
       "value": " 0/3862 [00:00&lt;?, ?it/s]"
      }
     },
     "34bebd0a48f943c8b82c460d4bc15465": {
      "model_module": "@jupyter-widgets/base",
      "model_module_version": "2.0.0",
      "model_name": "LayoutModel",
      "state": {}
     },
     "354387af03674482ab18099c9b24307c": {
      "model_module": "@jupyter-widgets/base",
      "model_module_version": "2.0.0",
      "model_name": "LayoutModel",
      "state": {}
     },
     "3701ce52ad2f4e0985b54bf49e52a82f": {
      "model_module": "@jupyter-widgets/controls",
      "model_module_version": "2.0.0",
      "model_name": "HBoxModel",
      "state": {
       "children": [
        "IPY_MODEL_777a573ab3d24c0f8ed5a5bd2c2b35f5",
        "IPY_MODEL_c8d5e4bd018e485a9e8c9f38b76c78f3",
        "IPY_MODEL_25b9971c12ad49f69525881a8fb60a8c"
       ],
       "layout": "IPY_MODEL_1591a8360c4b4a38a99fa481160fcebf"
      }
     },
     "3731f6fd7d9045668512e99516834d9a": {
      "model_module": "@jupyter-widgets/base",
      "model_module_version": "2.0.0",
      "model_name": "LayoutModel",
      "state": {}
     },
     "383917149a1a4b429d009aeb8fcb47df": {
      "model_module": "@jupyter-widgets/base",
      "model_module_version": "2.0.0",
      "model_name": "LayoutModel",
      "state": {}
     },
     "39a62a25654d4991bbbee91785d4c251": {
      "model_module": "@jupyter-widgets/base",
      "model_module_version": "2.0.0",
      "model_name": "LayoutModel",
      "state": {}
     },
     "39c6153ec5e94f9c89fcbde6898b6228": {
      "model_module": "@jupyter-widgets/base",
      "model_module_version": "2.0.0",
      "model_name": "LayoutModel",
      "state": {}
     },
     "3ac09a45f1254d599ef095c7cf4f776a": {
      "model_module": "@jupyter-widgets/controls",
      "model_module_version": "2.0.0",
      "model_name": "HTMLStyleModel",
      "state": {
       "description_width": "",
       "font_size": null,
       "text_color": null
      }
     },
     "3b46cffa8aed47b793e931518a203d55": {
      "model_module": "@jupyter-widgets/controls",
      "model_module_version": "2.0.0",
      "model_name": "HTMLModel",
      "state": {
       "layout": "IPY_MODEL_7593152ef001471ea1093f0c598381f3",
       "style": "IPY_MODEL_24609e2ea5734aff893696fa515e4c11",
       "value": " 0/3862 [00:00&lt;?, ?it/s]"
      }
     },
     "3b5f9115049d48838b7abbc435f8341e": {
      "model_module": "@jupyter-widgets/controls",
      "model_module_version": "2.0.0",
      "model_name": "HTMLModel",
      "state": {
       "layout": "IPY_MODEL_798864c5c3f043abb8929d26074df874",
       "style": "IPY_MODEL_55209c391d714127a33bce2af71382d9",
       "value": " 0/10 [00:00&lt;?, ?it/s]"
      }
     },
     "3c19b4422b1f42fa9b151c94008e4216": {
      "model_module": "@jupyter-widgets/base",
      "model_module_version": "2.0.0",
      "model_name": "LayoutModel",
      "state": {}
     },
     "3ed4871a614a409a81efb22f0ff644b9": {
      "model_module": "@jupyter-widgets/base",
      "model_module_version": "2.0.0",
      "model_name": "LayoutModel",
      "state": {}
     },
     "3feecff77253437d80abbb9b6a234877": {
      "model_module": "@jupyter-widgets/controls",
      "model_module_version": "2.0.0",
      "model_name": "HTMLModel",
      "state": {
       "layout": "IPY_MODEL_83ee11b5c86a4bb682ffe9b6f00e6a0d",
       "style": "IPY_MODEL_f7a7473656d9421c85efa0599bfbe5c2",
       "value": " 5877/5877 [30:33&lt;00:00,  3.72it/s]"
      }
     },
     "439901fa6a6348a0809fb789c2083124": {
      "model_module": "@jupyter-widgets/controls",
      "model_module_version": "2.0.0",
      "model_name": "HTMLStyleModel",
      "state": {
       "description_width": "",
       "font_size": null,
       "text_color": null
      }
     },
     "4849018c548943bcb5f3d636a349cd5c": {
      "model_module": "@jupyter-widgets/controls",
      "model_module_version": "2.0.0",
      "model_name": "HTMLStyleModel",
      "state": {
       "description_width": "",
       "font_size": null,
       "text_color": null
      }
     },
     "489090a7a8544b99ab70abbf9dfd2c02": {
      "model_module": "@jupyter-widgets/controls",
      "model_module_version": "2.0.0",
      "model_name": "ProgressStyleModel",
      "state": {
       "description_width": ""
      }
     },
     "4c7dd6e995c747daabc37c1bac221ff7": {
      "model_module": "@jupyter-widgets/controls",
      "model_module_version": "2.0.0",
      "model_name": "HBoxModel",
      "state": {
       "children": [
        "IPY_MODEL_e0fdd78b893048b38e58d359c0b8029a",
        "IPY_MODEL_a65c7606f12b458ca0f004dabec47f29",
        "IPY_MODEL_2aa227c1478047fe8dcc74d29920ab60"
       ],
       "layout": "IPY_MODEL_30995326a9f9480aae79b12951d5754c"
      }
     },
     "4ccae857a5f741848d5ce4439cb7f364": {
      "model_module": "@jupyter-widgets/controls",
      "model_module_version": "2.0.0",
      "model_name": "ProgressStyleModel",
      "state": {
       "description_width": ""
      }
     },
     "4d0a56e8d080470697c62c23fdd3b7cc": {
      "model_module": "@jupyter-widgets/controls",
      "model_module_version": "2.0.0",
      "model_name": "HTMLStyleModel",
      "state": {
       "description_width": "",
       "font_size": null,
       "text_color": null
      }
     },
     "4dc247fd208b48b1b6dc3bc4662e6003": {
      "model_module": "@jupyter-widgets/controls",
      "model_module_version": "2.0.0",
      "model_name": "HTMLStyleModel",
      "state": {
       "description_width": "",
       "font_size": null,
       "text_color": null
      }
     },
     "4f1047655df6470d83999b00f6212194": {
      "model_module": "@jupyter-widgets/controls",
      "model_module_version": "2.0.0",
      "model_name": "FloatProgressModel",
      "state": {
       "bar_style": "danger",
       "layout": "IPY_MODEL_d28c6df7757d4b11b87be7cee57a88b3",
       "max": 10,
       "style": "IPY_MODEL_67006a63d4574cfcb0580b4fb9923e55"
      }
     },
     "4fd64f71e80b49798e96cff02e08d0b8": {
      "model_module": "@jupyter-widgets/base",
      "model_module_version": "2.0.0",
      "model_name": "LayoutModel",
      "state": {}
     },
     "50d474bad43c4f4a834c6107f1c37343": {
      "model_module": "@jupyter-widgets/base",
      "model_module_version": "2.0.0",
      "model_name": "LayoutModel",
      "state": {}
     },
     "5205800a336d48bdacd50f218b94926f": {
      "model_module": "@jupyter-widgets/base",
      "model_module_version": "2.0.0",
      "model_name": "LayoutModel",
      "state": {}
     },
     "5264b4a6b851408eaff7c7b59423469d": {
      "model_module": "@jupyter-widgets/controls",
      "model_module_version": "2.0.0",
      "model_name": "HBoxModel",
      "state": {
       "children": [
        "IPY_MODEL_950599a23e1946aba876e24bbc814b5d",
        "IPY_MODEL_2bb58d193aa04b85bf1c1f710bdfbfa4",
        "IPY_MODEL_e55c95a90e974bb3bff07f23476491e9"
       ],
       "layout": "IPY_MODEL_3731f6fd7d9045668512e99516834d9a"
      }
     },
     "52a03e4409f54741be2663aacb77139b": {
      "model_module": "@jupyter-widgets/controls",
      "model_module_version": "2.0.0",
      "model_name": "HTMLStyleModel",
      "state": {
       "description_width": "",
       "font_size": null,
       "text_color": null
      }
     },
     "538b991e146d43fcb082c13d2aef2ccd": {
      "model_module": "@jupyter-widgets/controls",
      "model_module_version": "2.0.0",
      "model_name": "ProgressStyleModel",
      "state": {
       "description_width": ""
      }
     },
     "53baf448dba74f1b863d648ebe4d15dc": {
      "model_module": "@jupyter-widgets/controls",
      "model_module_version": "2.0.0",
      "model_name": "ProgressStyleModel",
      "state": {
       "description_width": ""
      }
     },
     "55209c391d714127a33bce2af71382d9": {
      "model_module": "@jupyter-widgets/controls",
      "model_module_version": "2.0.0",
      "model_name": "HTMLStyleModel",
      "state": {
       "description_width": "",
       "font_size": null,
       "text_color": null
      }
     },
     "55389d38350140e1a5ad7f806f3e78a3": {
      "model_module": "@jupyter-widgets/base",
      "model_module_version": "2.0.0",
      "model_name": "LayoutModel",
      "state": {}
     },
     "55ab1ba267d4445fb973cf679ccd39eb": {
      "model_module": "@jupyter-widgets/controls",
      "model_module_version": "2.0.0",
      "model_name": "ProgressStyleModel",
      "state": {
       "description_width": ""
      }
     },
     "5752d26834234498b0eb4597059cad6b": {
      "model_module": "@jupyter-widgets/controls",
      "model_module_version": "2.0.0",
      "model_name": "HTMLStyleModel",
      "state": {
       "description_width": "",
       "font_size": null,
       "text_color": null
      }
     },
     "5808b443d6cd42aa93d084780590b454": {
      "model_module": "@jupyter-widgets/controls",
      "model_module_version": "2.0.0",
      "model_name": "HBoxModel",
      "state": {
       "children": [
        "IPY_MODEL_1da2b76438964edeaef88f5e852524b5",
        "IPY_MODEL_282d56c9190e4a1e876f69895a6e4b02",
        "IPY_MODEL_09f2d2f06efd4de9afc5ca2e0ea4d6b7"
       ],
       "layout": "IPY_MODEL_ed46e34f287f4352b50b2f57456ecf2a"
      }
     },
     "5ad621ae2cf34211be398ad2b151fdba": {
      "model_module": "@jupyter-widgets/controls",
      "model_module_version": "2.0.0",
      "model_name": "FloatProgressModel",
      "state": {
       "bar_style": "success",
       "layout": "IPY_MODEL_86a43b08b08e4b2d9e8acfbf522c6396",
       "max": 3862,
       "style": "IPY_MODEL_e65b84ac9457484c917e76a5208f96b9",
       "value": 3862
      }
     },
     "5ae7debed189446cbdb8d343205ff433": {
      "model_module": "@jupyter-widgets/controls",
      "model_module_version": "2.0.0",
      "model_name": "ProgressStyleModel",
      "state": {
       "description_width": ""
      }
     },
     "5f20926a0cc54448b16f0c9b84f2d8c3": {
      "model_module": "@jupyter-widgets/controls",
      "model_module_version": "2.0.0",
      "model_name": "FloatProgressModel",
      "state": {
       "bar_style": "danger",
       "layout": "IPY_MODEL_63f80305247646a59eef666d16821505",
       "max": 3862,
       "style": "IPY_MODEL_2f3a744d6d484bfc86629f5b18cba6f4",
       "value": 370
      }
     },
     "60cc3ccc12bb41089bf871f5bb74ec91": {
      "model_module": "@jupyter-widgets/controls",
      "model_module_version": "2.0.0",
      "model_name": "HTMLStyleModel",
      "state": {
       "description_width": "",
       "font_size": null,
       "text_color": null
      }
     },
     "61c76c1e1ab84facb71dc9fbc7ddf10e": {
      "model_module": "@jupyter-widgets/base",
      "model_module_version": "2.0.0",
      "model_name": "LayoutModel",
      "state": {}
     },
     "61f1604a1453499986d8910f2f5c1a83": {
      "model_module": "@jupyter-widgets/controls",
      "model_module_version": "2.0.0",
      "model_name": "FloatProgressModel",
      "state": {
       "bar_style": "danger",
       "layout": "IPY_MODEL_035be19b60db459eb45ace6b31a5079c",
       "max": 10,
       "style": "IPY_MODEL_ebff36889e064a36adc82b3ec2fc0bd0"
      }
     },
     "63f80305247646a59eef666d16821505": {
      "model_module": "@jupyter-widgets/base",
      "model_module_version": "2.0.0",
      "model_name": "LayoutModel",
      "state": {}
     },
     "654385283a0940f084fc4cf148ff76cf": {
      "model_module": "@jupyter-widgets/controls",
      "model_module_version": "2.0.0",
      "model_name": "FloatProgressModel",
      "state": {
       "bar_style": "success",
       "layout": "IPY_MODEL_9e47f79c49e64309aa983aad89ee9246",
       "max": 3862,
       "style": "IPY_MODEL_d968884ba1834f098b13683f37077637",
       "value": 3862
      }
     },
     "67006a63d4574cfcb0580b4fb9923e55": {
      "model_module": "@jupyter-widgets/controls",
      "model_module_version": "2.0.0",
      "model_name": "ProgressStyleModel",
      "state": {
       "description_width": ""
      }
     },
     "679b13345e884043bd67941927bf874f": {
      "model_module": "@jupyter-widgets/controls",
      "model_module_version": "2.0.0",
      "model_name": "HTMLModel",
      "state": {
       "layout": "IPY_MODEL_f3c65e0758ff42898d95b36c346ddff9",
       "style": "IPY_MODEL_c5089e09abff462aa164c23f8330ac21",
       "value": " 1/10 [26:21&lt;1:29:47, 598.56s/it]"
      }
     },
     "695ae3afe06d4f048334baf6c91f5ff8": {
      "model_module": "@jupyter-widgets/controls",
      "model_module_version": "2.0.0",
      "model_name": "HTMLStyleModel",
      "state": {
       "description_width": "",
       "font_size": null,
       "text_color": null
      }
     },
     "69bdf16a5dd64857b86b86ac0b50d365": {
      "model_module": "@jupyter-widgets/controls",
      "model_module_version": "2.0.0",
      "model_name": "HTMLModel",
      "state": {
       "layout": "IPY_MODEL_a4a67617c4fc47c4ba9d2240d4875a44",
       "style": "IPY_MODEL_3ac09a45f1254d599ef095c7cf4f776a",
       "value": "Movies from 2010: 100%"
      }
     },
     "6bb078a9ba214845a94919fc920f64e5": {
      "model_module": "@jupyter-widgets/controls",
      "model_module_version": "2.0.0",
      "model_name": "HBoxModel",
      "state": {
       "children": [
        "IPY_MODEL_d859e568a0bd4db093efeddf1e03abe6",
        "IPY_MODEL_0ce64fed7014462c9ab7860f500d2382",
        "IPY_MODEL_3feecff77253437d80abbb9b6a234877"
       ],
       "layout": "IPY_MODEL_e47d1346484945b38199b85e388c4052"
      }
     },
     "6cadcc5473d543509fbfea028c3db022": {
      "model_module": "@jupyter-widgets/base",
      "model_module_version": "2.0.0",
      "model_name": "LayoutModel",
      "state": {}
     },
     "6e2728e7117c4672a19a2f37478b599a": {
      "model_module": "@jupyter-widgets/base",
      "model_module_version": "2.0.0",
      "model_name": "LayoutModel",
      "state": {}
     },
     "6e48a54b45984a25bf6ae58a81dafff1": {
      "model_module": "@jupyter-widgets/controls",
      "model_module_version": "2.0.0",
      "model_name": "HTMLModel",
      "state": {
       "layout": "IPY_MODEL_6e2728e7117c4672a19a2f37478b599a",
       "style": "IPY_MODEL_d083b5998f1940b684049c6281ed0ce9",
       "value": "YEARS:   0%"
      }
     },
     "70e286f2a07a417d842eddd8c5ba4f56": {
      "model_module": "@jupyter-widgets/controls",
      "model_module_version": "2.0.0",
      "model_name": "HTMLStyleModel",
      "state": {
       "description_width": "",
       "font_size": null,
       "text_color": null
      }
     },
     "7183c1198c044f38828a5dc902b6afc1": {
      "model_module": "@jupyter-widgets/base",
      "model_module_version": "2.0.0",
      "model_name": "LayoutModel",
      "state": {}
     },
     "724127ee6f4248b4bd83e3e86bd82ebe": {
      "model_module": "@jupyter-widgets/base",
      "model_module_version": "2.0.0",
      "model_name": "LayoutModel",
      "state": {}
     },
     "7421d9aa7c6544b4bb3a93c6f82359c2": {
      "model_module": "@jupyter-widgets/controls",
      "model_module_version": "2.0.0",
      "model_name": "FloatProgressModel",
      "state": {
       "bar_style": "danger",
       "layout": "IPY_MODEL_f095c5530dc5484a890f680e3c198eaa",
       "max": 10,
       "style": "IPY_MODEL_8cd7fd30c03f43569b144051967b8d8f"
      }
     },
     "744f684f1fcf436b893d06c297116ffb": {
      "model_module": "@jupyter-widgets/controls",
      "model_module_version": "2.0.0",
      "model_name": "ProgressStyleModel",
      "state": {
       "description_width": ""
      }
     },
     "7593152ef001471ea1093f0c598381f3": {
      "model_module": "@jupyter-widgets/base",
      "model_module_version": "2.0.0",
      "model_name": "LayoutModel",
      "state": {}
     },
     "75f11563ae4c467a8ef0052126c6ce3b": {
      "model_module": "@jupyter-widgets/controls",
      "model_module_version": "2.0.0",
      "model_name": "ProgressStyleModel",
      "state": {
       "description_width": ""
      }
     },
     "7676c7716fe14ffd82a9879c9302b1be": {
      "model_module": "@jupyter-widgets/base",
      "model_module_version": "2.0.0",
      "model_name": "LayoutModel",
      "state": {}
     },
     "772f915671be4fa9b8311f47618d8298": {
      "model_module": "@jupyter-widgets/controls",
      "model_module_version": "2.0.0",
      "model_name": "ProgressStyleModel",
      "state": {
       "description_width": ""
      }
     },
     "777a573ab3d24c0f8ed5a5bd2c2b35f5": {
      "model_module": "@jupyter-widgets/controls",
      "model_module_version": "2.0.0",
      "model_name": "HTMLModel",
      "state": {
       "layout": "IPY_MODEL_3c19b4422b1f42fa9b151c94008e4216",
       "style": "IPY_MODEL_fa57f367337d40ed9f0f1ca3260cd439",
       "value": "Movies from 2018: 100%"
      }
     },
     "77f8bc8870cd4fea9d780feb331bbd5b": {
      "model_module": "@jupyter-widgets/controls",
      "model_module_version": "2.0.0",
      "model_name": "HTMLModel",
      "state": {
       "layout": "IPY_MODEL_08a89846489146aebfdeb94c81745f5d",
       "style": "IPY_MODEL_9973fb9de81b4adca3277738a6ef2c33",
       "value": "YEARS:  10%"
      }
     },
     "798864c5c3f043abb8929d26074df874": {
      "model_module": "@jupyter-widgets/base",
      "model_module_version": "2.0.0",
      "model_name": "LayoutModel",
      "state": {}
     },
     "7a351fa9a309475980154329484d7b6c": {
      "model_module": "@jupyter-widgets/controls",
      "model_module_version": "2.0.0",
      "model_name": "HBoxModel",
      "state": {
       "children": [
        "IPY_MODEL_6e48a54b45984a25bf6ae58a81dafff1",
        "IPY_MODEL_f4f69292b642408eb430b4b398d685dc",
        "IPY_MODEL_1ff652c0240f4c6680c94f0869abd706"
       ],
       "layout": "IPY_MODEL_f8e2c6f85f744d17b4786716c6c84896"
      }
     },
     "7b629fccd10c4f74b5aec13b1a4f7b39": {
      "model_module": "@jupyter-widgets/controls",
      "model_module_version": "2.0.0",
      "model_name": "HTMLModel",
      "state": {
       "layout": "IPY_MODEL_0c5e98c7a3254d25beea3a60ddc8d4b6",
       "style": "IPY_MODEL_cefa05f552ee44c1ab75025e797374f6",
       "value": "Movies from 2010:  10%"
      }
     },
     "7b758b2f52264b0dbcafd339eb528580": {
      "model_module": "@jupyter-widgets/base",
      "model_module_version": "2.0.0",
      "model_name": "LayoutModel",
      "state": {}
     },
     "7b931791bb094ebd9579b1fa8b072e4f": {
      "model_module": "@jupyter-widgets/controls",
      "model_module_version": "2.0.0",
      "model_name": "HTMLModel",
      "state": {
       "layout": "IPY_MODEL_2c8f6998d74d4edfba3b52918426de56",
       "style": "IPY_MODEL_2540dc1016dc486da03086ef628210a4",
       "value": "Movies from 2010:   0%"
      }
     },
     "7f0ac92ddbf54dbba4dbb59f474316ef": {
      "model_module": "@jupyter-widgets/controls",
      "model_module_version": "2.0.0",
      "model_name": "HTMLModel",
      "state": {
       "layout": "IPY_MODEL_aeb767842e98450694f0a5f09fcb47cc",
       "style": "IPY_MODEL_96dee9bd40a9480db1b8afb50c466147",
       "value": " 10/10 [00:00&lt;00:00, 255.14it/s]"
      }
     },
     "824626cb2c9f453596394ca0d5ec1746": {
      "model_module": "@jupyter-widgets/controls",
      "model_module_version": "2.0.0",
      "model_name": "HTMLModel",
      "state": {
       "layout": "IPY_MODEL_31b86c1076654c719abcb6167ac174b5",
       "style": "IPY_MODEL_4849018c548943bcb5f3d636a349cd5c",
       "value": " 0/10 [00:00&lt;?, ?it/s]"
      }
     },
     "82f0fb414c9f44f7806ef2192c5f6b17": {
      "model_module": "@jupyter-widgets/base",
      "model_module_version": "2.0.0",
      "model_name": "LayoutModel",
      "state": {}
     },
     "83ee11b5c86a4bb682ffe9b6f00e6a0d": {
      "model_module": "@jupyter-widgets/base",
      "model_module_version": "2.0.0",
      "model_name": "LayoutModel",
      "state": {}
     },
     "84b0f7a4cf0b43d295f83f83aece9d13": {
      "model_module": "@jupyter-widgets/base",
      "model_module_version": "2.0.0",
      "model_name": "LayoutModel",
      "state": {}
     },
     "86a43b08b08e4b2d9e8acfbf522c6396": {
      "model_module": "@jupyter-widgets/base",
      "model_module_version": "2.0.0",
      "model_name": "LayoutModel",
      "state": {}
     },
     "872598667330441fa4bc8137f862f96b": {
      "model_module": "@jupyter-widgets/controls",
      "model_module_version": "2.0.0",
      "model_name": "ProgressStyleModel",
      "state": {
       "description_width": ""
      }
     },
     "8a5e4def928841559f9dbf6813138ad7": {
      "model_module": "@jupyter-widgets/controls",
      "model_module_version": "2.0.0",
      "model_name": "HBoxModel",
      "state": {
       "children": [
        "IPY_MODEL_7b629fccd10c4f74b5aec13b1a4f7b39",
        "IPY_MODEL_5f20926a0cc54448b16f0c9b84f2d8c3",
        "IPY_MODEL_9e043ece682f4ca29563ab5bd1db3576"
       ],
       "layout": "IPY_MODEL_2f51fb8869bc4fd6bc463a2bc82b32e1"
      }
     },
     "8ba2d5cff1ce4ba2a14e96c81d444805": {
      "model_module": "@jupyter-widgets/controls",
      "model_module_version": "2.0.0",
      "model_name": "HTMLModel",
      "state": {
       "layout": "IPY_MODEL_ff91c69d66864298b6706baadac5705b",
       "style": "IPY_MODEL_1f68c6da45f34af69c032c5ebbaf26c8",
       "value": " 3862/3862 [09:57&lt;00:00,  5.65it/s]"
      }
     },
     "8cd7fd30c03f43569b144051967b8d8f": {
      "model_module": "@jupyter-widgets/controls",
      "model_module_version": "2.0.0",
      "model_name": "ProgressStyleModel",
      "state": {
       "description_width": ""
      }
     },
     "8e928eb5096141cc94f5b2395b39eaf6": {
      "model_module": "@jupyter-widgets/controls",
      "model_module_version": "2.0.0",
      "model_name": "HTMLStyleModel",
      "state": {
       "description_width": "",
       "font_size": null,
       "text_color": null
      }
     },
     "8ff54e99a07d4bd4a9ed8831c2d9c498": {
      "model_module": "@jupyter-widgets/base",
      "model_module_version": "2.0.0",
      "model_name": "LayoutModel",
      "state": {}
     },
     "91ad043b5cbb47919e5f358b1bfd7091": {
      "model_module": "@jupyter-widgets/controls",
      "model_module_version": "2.0.0",
      "model_name": "HTMLStyleModel",
      "state": {
       "description_width": "",
       "font_size": null,
       "text_color": null
      }
     },
     "91f9d044e4094bdfb28f14204ec999fa": {
      "model_module": "@jupyter-widgets/base",
      "model_module_version": "2.0.0",
      "model_name": "LayoutModel",
      "state": {}
     },
     "9207ae82a41c4c76b96d08b9ae57b42e": {
      "model_module": "@jupyter-widgets/controls",
      "model_module_version": "2.0.0",
      "model_name": "HTMLStyleModel",
      "state": {
       "description_width": "",
       "font_size": null,
       "text_color": null
      }
     },
     "92a434dc98b24e3ab58dc05e072263d5": {
      "model_module": "@jupyter-widgets/controls",
      "model_module_version": "2.0.0",
      "model_name": "HTMLModel",
      "state": {
       "layout": "IPY_MODEL_354387af03674482ab18099c9b24307c",
       "style": "IPY_MODEL_f317a491eed8453da13a0b677fb965fb",
       "value": "Movies from 2010: 100%"
      }
     },
     "950599a23e1946aba876e24bbc814b5d": {
      "model_module": "@jupyter-widgets/controls",
      "model_module_version": "2.0.0",
      "model_name": "HTMLModel",
      "state": {
       "layout": "IPY_MODEL_e37baac65d914d4dbdc91e31633accfc",
       "style": "IPY_MODEL_dc5c1ea1fe044a19a687d6d43eabe6b1",
       "value": "YEARS: 100%"
      }
     },
     "966b3cc693ec4e0d955401e8baf9d90a": {
      "model_module": "@jupyter-widgets/controls",
      "model_module_version": "2.0.0",
      "model_name": "ProgressStyleModel",
      "state": {
       "description_width": ""
      }
     },
     "96dee9bd40a9480db1b8afb50c466147": {
      "model_module": "@jupyter-widgets/controls",
      "model_module_version": "2.0.0",
      "model_name": "HTMLStyleModel",
      "state": {
       "description_width": "",
       "font_size": null,
       "text_color": null
      }
     },
     "97c010c99f894616a14d57eae4402938": {
      "model_module": "@jupyter-widgets/controls",
      "model_module_version": "2.0.0",
      "model_name": "HBoxModel",
      "state": {
       "children": [
        "IPY_MODEL_effb0c7db8b64ff190237cec5d90371c",
        "IPY_MODEL_30d0c8e323d8437aab3f20f1a584dda5",
        "IPY_MODEL_3410fa47b1df4d68a0fb4ef43f95e476"
       ],
       "layout": "IPY_MODEL_dcd568795bfa477f8ca3ff2f6db0d388"
      }
     },
     "993507c8a0bb41eea3c32e0bde84121f": {
      "model_module": "@jupyter-widgets/controls",
      "model_module_version": "2.0.0",
      "model_name": "HTMLStyleModel",
      "state": {
       "description_width": "",
       "font_size": null,
       "text_color": null
      }
     },
     "9973fb9de81b4adca3277738a6ef2c33": {
      "model_module": "@jupyter-widgets/controls",
      "model_module_version": "2.0.0",
      "model_name": "HTMLStyleModel",
      "state": {
       "description_width": "",
       "font_size": null,
       "text_color": null
      }
     },
     "9cd3bcc25eb44bbe8509b09607555920": {
      "model_module": "@jupyter-widgets/base",
      "model_module_version": "2.0.0",
      "model_name": "LayoutModel",
      "state": {}
     },
     "9d06a80cdece453dac69b887e9643542": {
      "model_module": "@jupyter-widgets/controls",
      "model_module_version": "2.0.0",
      "model_name": "ProgressStyleModel",
      "state": {
       "description_width": ""
      }
     },
     "9d8ebaa31761442ebd9cb36f439307ae": {
      "model_module": "@jupyter-widgets/controls",
      "model_module_version": "2.0.0",
      "model_name": "HTMLStyleModel",
      "state": {
       "description_width": "",
       "font_size": null,
       "text_color": null
      }
     },
     "9dde4a75d33d4ea9a373e09bacaae7f5": {
      "model_module": "@jupyter-widgets/base",
      "model_module_version": "2.0.0",
      "model_name": "LayoutModel",
      "state": {}
     },
     "9e043ece682f4ca29563ab5bd1db3576": {
      "model_module": "@jupyter-widgets/controls",
      "model_module_version": "2.0.0",
      "model_name": "HTMLModel",
      "state": {
       "layout": "IPY_MODEL_a6d0e007c8454f68ac5f25a8f04061cc",
       "style": "IPY_MODEL_5752d26834234498b0eb4597059cad6b",
       "value": " 370/3862 [11:27&lt;4:38:10,  4.78s/it]"
      }
     },
     "9e47f79c49e64309aa983aad89ee9246": {
      "model_module": "@jupyter-widgets/base",
      "model_module_version": "2.0.0",
      "model_name": "LayoutModel",
      "state": {}
     },
     "9e9b3b144c8b4d849440ac57ecc98a69": {
      "model_module": "@jupyter-widgets/base",
      "model_module_version": "2.0.0",
      "model_name": "LayoutModel",
      "state": {}
     },
     "a1804737c54e4672bc275fd917df645c": {
      "model_module": "@jupyter-widgets/base",
      "model_module_version": "2.0.0",
      "model_name": "LayoutModel",
      "state": {}
     },
     "a24abfa9bc28434a85e1972e5d18b0a1": {
      "model_module": "@jupyter-widgets/controls",
      "model_module_version": "2.0.0",
      "model_name": "HTMLStyleModel",
      "state": {
       "description_width": "",
       "font_size": null,
       "text_color": null
      }
     },
     "a462024727ba46c19c1fde1df3fe1846": {
      "model_module": "@jupyter-widgets/controls",
      "model_module_version": "2.0.0",
      "model_name": "HTMLModel",
      "state": {
       "layout": "IPY_MODEL_bca1db81aa144e60932eeab8667b9e7c",
       "style": "IPY_MODEL_fe1b7f85fa074c6592f0cbeab6081932",
       "value": " 0/10 [17:18&lt;?, ?it/s]"
      }
     },
     "a4a67617c4fc47c4ba9d2240d4875a44": {
      "model_module": "@jupyter-widgets/base",
      "model_module_version": "2.0.0",
      "model_name": "LayoutModel",
      "state": {}
     },
     "a51b80636ae049e49f47d3e340ef33aa": {
      "model_module": "@jupyter-widgets/controls",
      "model_module_version": "2.0.0",
      "model_name": "HTMLStyleModel",
      "state": {
       "description_width": "",
       "font_size": null,
       "text_color": null
      }
     },
     "a611ececccdb4e47a5cf97796231d4aa": {
      "model_module": "@jupyter-widgets/base",
      "model_module_version": "2.0.0",
      "model_name": "LayoutModel",
      "state": {}
     },
     "a65c7606f12b458ca0f004dabec47f29": {
      "model_module": "@jupyter-widgets/controls",
      "model_module_version": "2.0.0",
      "model_name": "FloatProgressModel",
      "state": {
       "bar_style": "danger",
       "layout": "IPY_MODEL_1d453bbfe13a4f6894b5f31d908595ab",
       "max": 4229,
       "style": "IPY_MODEL_ac87145e8a804b59afc044bb9d322745",
       "value": 3408
      }
     },
     "a6d0e007c8454f68ac5f25a8f04061cc": {
      "model_module": "@jupyter-widgets/base",
      "model_module_version": "2.0.0",
      "model_name": "LayoutModel",
      "state": {}
     },
     "ac6c78f1d2bc4be2b07194b378a24af3": {
      "model_module": "@jupyter-widgets/controls",
      "model_module_version": "2.0.0",
      "model_name": "FloatProgressModel",
      "state": {
       "bar_style": "danger",
       "layout": "IPY_MODEL_061b5bea67524a28aa066da0272d8576",
       "max": 10,
       "style": "IPY_MODEL_772f915671be4fa9b8311f47618d8298"
      }
     },
     "ac87145e8a804b59afc044bb9d322745": {
      "model_module": "@jupyter-widgets/controls",
      "model_module_version": "2.0.0",
      "model_name": "ProgressStyleModel",
      "state": {
       "description_width": ""
      }
     },
     "ad104aa35e1a4ecdb867c19bf05db972": {
      "model_module": "@jupyter-widgets/base",
      "model_module_version": "2.0.0",
      "model_name": "LayoutModel",
      "state": {}
     },
     "ad260ac0c61849078bab4364db96a12f": {
      "model_module": "@jupyter-widgets/controls",
      "model_module_version": "2.0.0",
      "model_name": "HTMLModel",
      "state": {
       "layout": "IPY_MODEL_de8559d53ab04f899780ffa05c478908",
       "style": "IPY_MODEL_e4ac6068c41e42778bfa61809fa579cf",
       "value": " 5163/5163 [27:44&lt;00:00,  2.82it/s]"
      }
     },
     "aeb767842e98450694f0a5f09fcb47cc": {
      "model_module": "@jupyter-widgets/base",
      "model_module_version": "2.0.0",
      "model_name": "LayoutModel",
      "state": {}
     },
     "aec2f58bedea4aac9aac783884de18eb": {
      "model_module": "@jupyter-widgets/controls",
      "model_module_version": "2.0.0",
      "model_name": "ProgressStyleModel",
      "state": {
       "description_width": ""
      }
     },
     "b1de2e8cb4484a0e9fea94de4c5bc36f": {
      "model_module": "@jupyter-widgets/controls",
      "model_module_version": "2.0.0",
      "model_name": "FloatProgressModel",
      "state": {
       "bar_style": "success",
       "layout": "IPY_MODEL_7676c7716fe14ffd82a9879c9302b1be",
       "max": 10,
       "style": "IPY_MODEL_190b7c4d20664bfba21418692b4e1a7e",
       "value": 10
      }
     },
     "b2a4d37e4e6d43f4a0072eed8a76e0b2": {
      "model_module": "@jupyter-widgets/base",
      "model_module_version": "2.0.0",
      "model_name": "LayoutModel",
      "state": {}
     },
     "b416ead42c6a496d90e49d3e3c2c85c0": {
      "model_module": "@jupyter-widgets/base",
      "model_module_version": "2.0.0",
      "model_name": "LayoutModel",
      "state": {}
     },
     "b5599cb0d97347ba929d9d071c88c5c1": {
      "model_module": "@jupyter-widgets/base",
      "model_module_version": "2.0.0",
      "model_name": "LayoutModel",
      "state": {}
     },
     "b66b0d8b94a74861a72e8d07d5200c16": {
      "model_module": "@jupyter-widgets/controls",
      "model_module_version": "2.0.0",
      "model_name": "HTMLModel",
      "state": {
       "layout": "IPY_MODEL_9cd3bcc25eb44bbe8509b09607555920",
       "style": "IPY_MODEL_c1f1b52a347b4c66b1e87ab92879dee9",
       "value": "YEARS:   0%"
      }
     },
     "bc429e5cb9d649c1be5b92d5289dcc30": {
      "model_module": "@jupyter-widgets/base",
      "model_module_version": "2.0.0",
      "model_name": "LayoutModel",
      "state": {}
     },
     "bca1db81aa144e60932eeab8667b9e7c": {
      "model_module": "@jupyter-widgets/base",
      "model_module_version": "2.0.0",
      "model_name": "LayoutModel",
      "state": {}
     },
     "bcaa53bcb2d748c2aead77f2610c9d2e": {
      "model_module": "@jupyter-widgets/controls",
      "model_module_version": "2.0.0",
      "model_name": "HTMLStyleModel",
      "state": {
       "description_width": "",
       "font_size": null,
       "text_color": null
      }
     },
     "beebf08aecb84095ad5762e756f1487f": {
      "model_module": "@jupyter-widgets/controls",
      "model_module_version": "2.0.0",
      "model_name": "HTMLModel",
      "state": {
       "layout": "IPY_MODEL_19b6b9ed765b44bab738f3d6c74ce2d9",
       "style": "IPY_MODEL_c41c9003d4664e0aabc035e85efe367a",
       "value": "Movies from 2021: 100%"
      }
     },
     "bfabd4d656804a18b582d114824b8340": {
      "model_module": "@jupyter-widgets/base",
      "model_module_version": "2.0.0",
      "model_name": "LayoutModel",
      "state": {}
     },
     "c187978b33a74290916e5361604676b8": {
      "model_module": "@jupyter-widgets/controls",
      "model_module_version": "2.0.0",
      "model_name": "HBoxModel",
      "state": {
       "children": [
        "IPY_MODEL_d4aa32812574494c88f1b3096ca78c7b",
        "IPY_MODEL_b1de2e8cb4484a0e9fea94de4c5bc36f",
        "IPY_MODEL_7f0ac92ddbf54dbba4dbb59f474316ef"
       ],
       "layout": "IPY_MODEL_d1f313d2ca584cc39b740b4213a80d75"
      }
     },
     "c1f1b52a347b4c66b1e87ab92879dee9": {
      "model_module": "@jupyter-widgets/controls",
      "model_module_version": "2.0.0",
      "model_name": "HTMLStyleModel",
      "state": {
       "description_width": "",
       "font_size": null,
       "text_color": null
      }
     },
     "c35885f383f4406cae0983e38cf85204": {
      "model_module": "@jupyter-widgets/controls",
      "model_module_version": "2.0.0",
      "model_name": "HTMLModel",
      "state": {
       "layout": "IPY_MODEL_20c59676f2064e0bba6e60f4218c22e5",
       "style": "IPY_MODEL_52a03e4409f54741be2663aacb77139b",
       "value": " 0/10 [00:00&lt;?, ?it/s]"
      }
     },
     "c3fda71ceeb14aa0a5f4e641cfb026bb": {
      "model_module": "@jupyter-widgets/controls",
      "model_module_version": "2.0.0",
      "model_name": "HTMLModel",
      "state": {
       "layout": "IPY_MODEL_f2fb896ff47f46599aac12e67e6541bd",
       "style": "IPY_MODEL_079949852aed48d5bd1c1ebddf6ff38d",
       "value": "YEARS:   0%"
      }
     },
     "c41c9003d4664e0aabc035e85efe367a": {
      "model_module": "@jupyter-widgets/controls",
      "model_module_version": "2.0.0",
      "model_name": "HTMLStyleModel",
      "state": {
       "description_width": "",
       "font_size": null,
       "text_color": null
      }
     },
     "c5089e09abff462aa164c23f8330ac21": {
      "model_module": "@jupyter-widgets/controls",
      "model_module_version": "2.0.0",
      "model_name": "HTMLStyleModel",
      "state": {
       "description_width": "",
       "font_size": null,
       "text_color": null
      }
     },
     "c57999d4a3ac438ca5566bb60d017300": {
      "model_module": "@jupyter-widgets/controls",
      "model_module_version": "2.0.0",
      "model_name": "FloatProgressModel",
      "state": {
       "bar_style": "danger",
       "layout": "IPY_MODEL_b5599cb0d97347ba929d9d071c88c5c1",
       "max": 3862,
       "style": "IPY_MODEL_aec2f58bedea4aac9aac783884de18eb"
      }
     },
     "c746da33d56949e4a4d78327fe5f1cc3": {
      "model_module": "@jupyter-widgets/controls",
      "model_module_version": "2.0.0",
      "model_name": "ProgressStyleModel",
      "state": {
       "description_width": ""
      }
     },
     "c8d5e4bd018e485a9e8c9f38b76c78f3": {
      "model_module": "@jupyter-widgets/controls",
      "model_module_version": "2.0.0",
      "model_name": "FloatProgressModel",
      "state": {
       "bar_style": "success",
       "layout": "IPY_MODEL_083c7cdf09c649638bd0a9258f07ba4a",
       "max": 5785,
       "style": "IPY_MODEL_538b991e146d43fcb082c13d2aef2ccd",
       "value": 5785
      }
     },
     "cb02eaf41a334233891080d2be9be2e2": {
      "model_module": "@jupyter-widgets/base",
      "model_module_version": "2.0.0",
      "model_name": "LayoutModel",
      "state": {}
     },
     "cc3bfa627fe84481a417f04ce3284d9a": {
      "model_module": "@jupyter-widgets/controls",
      "model_module_version": "2.0.0",
      "model_name": "HTMLModel",
      "state": {
       "layout": "IPY_MODEL_4fd64f71e80b49798e96cff02e08d0b8",
       "style": "IPY_MODEL_a51b80636ae049e49f47d3e340ef33aa",
       "value": " 5010/5010 [26:04&lt;00:00,  2.64it/s]"
      }
     },
     "ccf83efa894446acad34cf50d8cf2b4a": {
      "model_module": "@jupyter-widgets/base",
      "model_module_version": "2.0.0",
      "model_name": "LayoutModel",
      "state": {}
     },
     "cdf58edd37b145e491793456f0a77f30": {
      "model_module": "@jupyter-widgets/controls",
      "model_module_version": "2.0.0",
      "model_name": "FloatProgressModel",
      "state": {
       "bar_style": "danger",
       "layout": "IPY_MODEL_ad104aa35e1a4ecdb867c19bf05db972",
       "max": 10,
       "style": "IPY_MODEL_55ab1ba267d4445fb973cf679ccd39eb",
       "value": 1
      }
     },
     "cefa05f552ee44c1ab75025e797374f6": {
      "model_module": "@jupyter-widgets/controls",
      "model_module_version": "2.0.0",
      "model_name": "HTMLStyleModel",
      "state": {
       "description_width": "",
       "font_size": null,
       "text_color": null
      }
     },
     "d02fde462b37494988d22c1307518e13": {
      "model_module": "@jupyter-widgets/base",
      "model_module_version": "2.0.0",
      "model_name": "LayoutModel",
      "state": {}
     },
     "d083b5998f1940b684049c6281ed0ce9": {
      "model_module": "@jupyter-widgets/controls",
      "model_module_version": "2.0.0",
      "model_name": "HTMLStyleModel",
      "state": {
       "description_width": "",
       "font_size": null,
       "text_color": null
      }
     },
     "d0c9b832600c4cdc81d573acb07f1d43": {
      "model_module": "@jupyter-widgets/controls",
      "model_module_version": "2.0.0",
      "model_name": "HTMLModel",
      "state": {
       "layout": "IPY_MODEL_50d474bad43c4f4a834c6107f1c37343",
       "style": "IPY_MODEL_0369efa1e4374f96ba327ba277fc0ea0",
       "value": "Movies from 2018:  16%"
      }
     },
     "d0d3a038e3d54308b935abfd626c9bdb": {
      "model_module": "@jupyter-widgets/controls",
      "model_module_version": "2.0.0",
      "model_name": "HBoxModel",
      "state": {
       "children": [
        "IPY_MODEL_beebf08aecb84095ad5762e756f1487f",
        "IPY_MODEL_e16e922475b24748834b2345a28f88db",
        "IPY_MODEL_ad260ac0c61849078bab4364db96a12f"
       ],
       "layout": "IPY_MODEL_82f0fb414c9f44f7806ef2192c5f6b17"
      }
     },
     "d1f313d2ca584cc39b740b4213a80d75": {
      "model_module": "@jupyter-widgets/base",
      "model_module_version": "2.0.0",
      "model_name": "LayoutModel",
      "state": {}
     },
     "d28c6df7757d4b11b87be7cee57a88b3": {
      "model_module": "@jupyter-widgets/base",
      "model_module_version": "2.0.0",
      "model_name": "LayoutModel",
      "state": {}
     },
     "d4aa32812574494c88f1b3096ca78c7b": {
      "model_module": "@jupyter-widgets/controls",
      "model_module_version": "2.0.0",
      "model_name": "HTMLModel",
      "state": {
       "layout": "IPY_MODEL_0809aafbb9ee4fd49c95a6eddf0908d1",
       "style": "IPY_MODEL_9207ae82a41c4c76b96d08b9ae57b42e",
       "value": "YEARS: 100%"
      }
     },
     "d794e70e65c04a59a11716204598a8b5": {
      "model_module": "@jupyter-widgets/controls",
      "model_module_version": "2.0.0",
      "model_name": "HTMLStyleModel",
      "state": {
       "description_width": "",
       "font_size": null,
       "text_color": null
      }
     },
     "d80ab18a3f6147bcbec4260e68438de0": {
      "model_module": "@jupyter-widgets/controls",
      "model_module_version": "2.0.0",
      "model_name": "HTMLStyleModel",
      "state": {
       "description_width": "",
       "font_size": null,
       "text_color": null
      }
     },
     "d859e568a0bd4db093efeddf1e03abe6": {
      "model_module": "@jupyter-widgets/controls",
      "model_module_version": "2.0.0",
      "model_name": "HTMLModel",
      "state": {
       "layout": "IPY_MODEL_55389d38350140e1a5ad7f806f3e78a3",
       "style": "IPY_MODEL_695ae3afe06d4f048334baf6c91f5ff8",
       "value": "Movies from 2019: 100%"
      }
     },
     "d968884ba1834f098b13683f37077637": {
      "model_module": "@jupyter-widgets/controls",
      "model_module_version": "2.0.0",
      "model_name": "ProgressStyleModel",
      "state": {
       "description_width": ""
      }
     },
     "dc5c1ea1fe044a19a687d6d43eabe6b1": {
      "model_module": "@jupyter-widgets/controls",
      "model_module_version": "2.0.0",
      "model_name": "HTMLStyleModel",
      "state": {
       "description_width": "",
       "font_size": null,
       "text_color": null
      }
     },
     "dcd568795bfa477f8ca3ff2f6db0d388": {
      "model_module": "@jupyter-widgets/base",
      "model_module_version": "2.0.0",
      "model_name": "LayoutModel",
      "state": {}
     },
     "de8559d53ab04f899780ffa05c478908": {
      "model_module": "@jupyter-widgets/base",
      "model_module_version": "2.0.0",
      "model_name": "LayoutModel",
      "state": {}
     },
     "dfc806ecaa814a5fa0f72799fbe9960c": {
      "model_module": "@jupyter-widgets/controls",
      "model_module_version": "2.0.0",
      "model_name": "HTMLModel",
      "state": {
       "layout": "IPY_MODEL_0efea400584f4e45b663034f8b6df6d9",
       "style": "IPY_MODEL_d80ab18a3f6147bcbec4260e68438de0",
       "value": " 3862/3862 [17:18&lt;00:00,  3.72it/s]"
      }
     },
     "e0839bb0ca5440789cfbfb85b3061741": {
      "model_module": "@jupyter-widgets/base",
      "model_module_version": "2.0.0",
      "model_name": "LayoutModel",
      "state": {}
     },
     "e0fdd78b893048b38e58d359c0b8029a": {
      "model_module": "@jupyter-widgets/controls",
      "model_module_version": "2.0.0",
      "model_name": "HTMLModel",
      "state": {
       "layout": "IPY_MODEL_e385f4c82cf74c96b5518d4722b402ca",
       "style": "IPY_MODEL_4dc247fd208b48b1b6dc3bc4662e6003",
       "value": "Movies from 2011:  81%"
      }
     },
     "e0fe2b07698c4eba9be0940411237513": {
      "model_module": "@jupyter-widgets/base",
      "model_module_version": "2.0.0",
      "model_name": "LayoutModel",
      "state": {}
     },
     "e16e922475b24748834b2345a28f88db": {
      "model_module": "@jupyter-widgets/controls",
      "model_module_version": "2.0.0",
      "model_name": "FloatProgressModel",
      "state": {
       "bar_style": "success",
       "layout": "IPY_MODEL_fa3d72c5415243b2b345272ea31326e4",
       "max": 5163,
       "style": "IPY_MODEL_4ccae857a5f741848d5ce4439cb7f364",
       "value": 5163
      }
     },
     "e18a5e6479134523877acbeb76eb33c4": {
      "model_module": "@jupyter-widgets/base",
      "model_module_version": "2.0.0",
      "model_name": "LayoutModel",
      "state": {}
     },
     "e274ea8a3244401b9d5ac4a3a1dd27b7": {
      "model_module": "@jupyter-widgets/controls",
      "model_module_version": "2.0.0",
      "model_name": "HTMLModel",
      "state": {
       "layout": "IPY_MODEL_e0839bb0ca5440789cfbfb85b3061741",
       "style": "IPY_MODEL_d794e70e65c04a59a11716204598a8b5",
       "value": " 0/10 [00:00&lt;?, ?it/s]"
      }
     },
     "e37baac65d914d4dbdc91e31633accfc": {
      "model_module": "@jupyter-widgets/base",
      "model_module_version": "2.0.0",
      "model_name": "LayoutModel",
      "state": {}
     },
     "e385f4c82cf74c96b5518d4722b402ca": {
      "model_module": "@jupyter-widgets/base",
      "model_module_version": "2.0.0",
      "model_name": "LayoutModel",
      "state": {}
     },
     "e39e9666f4c04e14a2c7137fb7c61b58": {
      "model_module": "@jupyter-widgets/controls",
      "model_module_version": "2.0.0",
      "model_name": "HBoxModel",
      "state": {
       "children": [
        "IPY_MODEL_156aebe394554215a6b20de20b7b4a00",
        "IPY_MODEL_1edd737495bc4a838586d5e3e616234d",
        "IPY_MODEL_0833e9b4d14343cda538e07d93c55fbb"
       ],
       "layout": "IPY_MODEL_6cadcc5473d543509fbfea028c3db022"
      }
     },
     "e47d1346484945b38199b85e388c4052": {
      "model_module": "@jupyter-widgets/base",
      "model_module_version": "2.0.0",
      "model_name": "LayoutModel",
      "state": {}
     },
     "e4ac6068c41e42778bfa61809fa579cf": {
      "model_module": "@jupyter-widgets/controls",
      "model_module_version": "2.0.0",
      "model_name": "HTMLStyleModel",
      "state": {
       "description_width": "",
       "font_size": null,
       "text_color": null
      }
     },
     "e543c56b53dc49d9a502c2ede00820ab": {
      "model_module": "@jupyter-widgets/controls",
      "model_module_version": "2.0.0",
      "model_name": "HTMLStyleModel",
      "state": {
       "description_width": "",
       "font_size": null,
       "text_color": null
      }
     },
     "e55c95a90e974bb3bff07f23476491e9": {
      "model_module": "@jupyter-widgets/controls",
      "model_module_version": "2.0.0",
      "model_name": "HTMLModel",
      "state": {
       "layout": "IPY_MODEL_84b0f7a4cf0b43d295f83f83aece9d13",
       "style": "IPY_MODEL_439901fa6a6348a0809fb789c2083124",
       "value": " 5/5 [2:17:13&lt;00:00, 1617.00s/it]"
      }
     },
     "e65b84ac9457484c917e76a5208f96b9": {
      "model_module": "@jupyter-widgets/controls",
      "model_module_version": "2.0.0",
      "model_name": "ProgressStyleModel",
      "state": {
       "description_width": ""
      }
     },
     "e7a334ecc2554bbea646c390c9133a2e": {
      "model_module": "@jupyter-widgets/controls",
      "model_module_version": "2.0.0",
      "model_name": "HTMLStyleModel",
      "state": {
       "description_width": "",
       "font_size": null,
       "text_color": null
      }
     },
     "eb40badcae4d45b4a75b43306caa98d7": {
      "model_module": "@jupyter-widgets/controls",
      "model_module_version": "2.0.0",
      "model_name": "HBoxModel",
      "state": {
       "children": [
        "IPY_MODEL_f294430f9388464ba4d82a0918f816e1",
        "IPY_MODEL_7421d9aa7c6544b4bb3a93c6f82359c2",
        "IPY_MODEL_824626cb2c9f453596394ca0d5ec1746"
       ],
       "layout": "IPY_MODEL_a1804737c54e4672bc275fd917df645c"
      }
     },
     "eb89ac16736e474e8af74f0ef095ba68": {
      "model_module": "@jupyter-widgets/controls",
      "model_module_version": "2.0.0",
      "model_name": "HBoxModel",
      "state": {
       "children": [
        "IPY_MODEL_d0c9b832600c4cdc81d573acb07f1d43",
        "IPY_MODEL_2fb4b2b539d54da18d838bae425d561b",
        "IPY_MODEL_0c4b3d40828046a3b99ec54a5973dbf6"
       ],
       "layout": "IPY_MODEL_d02fde462b37494988d22c1307518e13"
      }
     },
     "ebff36889e064a36adc82b3ec2fc0bd0": {
      "model_module": "@jupyter-widgets/controls",
      "model_module_version": "2.0.0",
      "model_name": "ProgressStyleModel",
      "state": {
       "description_width": ""
      }
     },
     "ed46e34f287f4352b50b2f57456ecf2a": {
      "model_module": "@jupyter-widgets/base",
      "model_module_version": "2.0.0",
      "model_name": "LayoutModel",
      "state": {}
     },
     "ef4b3c601c164e598787e36319c2ea72": {
      "model_module": "@jupyter-widgets/controls",
      "model_module_version": "2.0.0",
      "model_name": "HTMLStyleModel",
      "state": {
       "description_width": "",
       "font_size": null,
       "text_color": null
      }
     },
     "effb0c7db8b64ff190237cec5d90371c": {
      "model_module": "@jupyter-widgets/controls",
      "model_module_version": "2.0.0",
      "model_name": "HTMLModel",
      "state": {
       "layout": "IPY_MODEL_fa6be7579cc34975b4b030d8586cae9a",
       "style": "IPY_MODEL_e7a334ecc2554bbea646c390c9133a2e",
       "value": "Movies from 2010:   0%"
      }
     },
     "f095c5530dc5484a890f680e3c198eaa": {
      "model_module": "@jupyter-widgets/base",
      "model_module_version": "2.0.0",
      "model_name": "LayoutModel",
      "state": {}
     },
     "f294430f9388464ba4d82a0918f816e1": {
      "model_module": "@jupyter-widgets/controls",
      "model_module_version": "2.0.0",
      "model_name": "HTMLModel",
      "state": {
       "layout": "IPY_MODEL_0c890edeb60e4e05ad44ebd4fc4470ae",
       "style": "IPY_MODEL_bcaa53bcb2d748c2aead77f2610c9d2e",
       "value": "YEARS:   0%"
      }
     },
     "f2fb896ff47f46599aac12e67e6541bd": {
      "model_module": "@jupyter-widgets/base",
      "model_module_version": "2.0.0",
      "model_name": "LayoutModel",
      "state": {}
     },
     "f317a491eed8453da13a0b677fb965fb": {
      "model_module": "@jupyter-widgets/controls",
      "model_module_version": "2.0.0",
      "model_name": "HTMLStyleModel",
      "state": {
       "description_width": "",
       "font_size": null,
       "text_color": null
      }
     },
     "f31aee8effe44d8d93a6c40d679a8be0": {
      "model_module": "@jupyter-widgets/controls",
      "model_module_version": "2.0.0",
      "model_name": "HTMLModel",
      "state": {
       "layout": "IPY_MODEL_5205800a336d48bdacd50f218b94926f",
       "style": "IPY_MODEL_4d0a56e8d080470697c62c23fdd3b7cc",
       "value": "YEARS:   0%"
      }
     },
     "f33e93e3c5194c5db29253317faf50e3": {
      "model_module": "@jupyter-widgets/controls",
      "model_module_version": "2.0.0",
      "model_name": "HBoxModel",
      "state": {
       "children": [
        "IPY_MODEL_fbb1c53ab7d34add9e4cd686a3bcbd84",
        "IPY_MODEL_ac6c78f1d2bc4be2b07194b378a24af3",
        "IPY_MODEL_2ab9ea711c53432491a0605c275c1f89"
       ],
       "layout": "IPY_MODEL_21bf260b94434d4daf656a9f932cf8e2"
      }
     },
     "f3c65e0758ff42898d95b36c346ddff9": {
      "model_module": "@jupyter-widgets/base",
      "model_module_version": "2.0.0",
      "model_name": "LayoutModel",
      "state": {}
     },
     "f4f69292b642408eb430b4b398d685dc": {
      "model_module": "@jupyter-widgets/controls",
      "model_module_version": "2.0.0",
      "model_name": "FloatProgressModel",
      "state": {
       "bar_style": "danger",
       "layout": "IPY_MODEL_e18a5e6479134523877acbeb76eb33c4",
       "max": 4,
       "style": "IPY_MODEL_3013be81e2714abbb35ddb1bb2e5ae56"
      }
     },
     "f7a7473656d9421c85efa0599bfbe5c2": {
      "model_module": "@jupyter-widgets/controls",
      "model_module_version": "2.0.0",
      "model_name": "HTMLStyleModel",
      "state": {
       "description_width": "",
       "font_size": null,
       "text_color": null
      }
     },
     "f8e2c6f85f744d17b4786716c6c84896": {
      "model_module": "@jupyter-widgets/base",
      "model_module_version": "2.0.0",
      "model_name": "LayoutModel",
      "state": {}
     },
     "f9a14388baf54b40b74bb312a44df733": {
      "model_module": "@jupyter-widgets/controls",
      "model_module_version": "2.0.0",
      "model_name": "HTMLStyleModel",
      "state": {
       "description_width": "",
       "font_size": null,
       "text_color": null
      }
     },
     "fa3823ff9cf745e5912bfee61a80277b": {
      "model_module": "@jupyter-widgets/controls",
      "model_module_version": "2.0.0",
      "model_name": "HTMLStyleModel",
      "state": {
       "description_width": "",
       "font_size": null,
       "text_color": null
      }
     },
     "fa3d72c5415243b2b345272ea31326e4": {
      "model_module": "@jupyter-widgets/base",
      "model_module_version": "2.0.0",
      "model_name": "LayoutModel",
      "state": {}
     },
     "fa57f367337d40ed9f0f1ca3260cd439": {
      "model_module": "@jupyter-widgets/controls",
      "model_module_version": "2.0.0",
      "model_name": "HTMLStyleModel",
      "state": {
       "description_width": "",
       "font_size": null,
       "text_color": null
      }
     },
     "fa6be7579cc34975b4b030d8586cae9a": {
      "model_module": "@jupyter-widgets/base",
      "model_module_version": "2.0.0",
      "model_name": "LayoutModel",
      "state": {}
     },
     "faf94a03211b446a8d65144003dfcabd": {
      "model_module": "@jupyter-widgets/controls",
      "model_module_version": "2.0.0",
      "model_name": "HBoxModel",
      "state": {
       "children": [
        "IPY_MODEL_c3fda71ceeb14aa0a5f4e641cfb026bb",
        "IPY_MODEL_1ac906576e33479286cda270aeb9056d",
        "IPY_MODEL_e274ea8a3244401b9d5ac4a3a1dd27b7"
       ],
       "layout": "IPY_MODEL_8ff54e99a07d4bd4a9ed8831c2d9c498"
      }
     },
     "fb3bcaf501d141e5bc4f592c5fb2c801": {
      "model_module": "@jupyter-widgets/controls",
      "model_module_version": "2.0.0",
      "model_name": "HTMLModel",
      "state": {
       "layout": "IPY_MODEL_e0fe2b07698c4eba9be0940411237513",
       "style": "IPY_MODEL_e543c56b53dc49d9a502c2ede00820ab",
       "value": "YEARS:   0%"
      }
     },
     "fbb1c53ab7d34add9e4cd686a3bcbd84": {
      "model_module": "@jupyter-widgets/controls",
      "model_module_version": "2.0.0",
      "model_name": "HTMLModel",
      "state": {
       "layout": "IPY_MODEL_91f9d044e4094bdfb28f14204ec999fa",
       "style": "IPY_MODEL_993507c8a0bb41eea3c32e0bde84121f",
       "value": "YEARS:   0%"
      }
     },
     "fe1b7f85fa074c6592f0cbeab6081932": {
      "model_module": "@jupyter-widgets/controls",
      "model_module_version": "2.0.0",
      "model_name": "HTMLStyleModel",
      "state": {
       "description_width": "",
       "font_size": null,
       "text_color": null
      }
     },
     "fe46fff5aadf44fd9c169629d0451be6": {
      "model_module": "@jupyter-widgets/base",
      "model_module_version": "2.0.0",
      "model_name": "LayoutModel",
      "state": {}
     },
     "ff91c69d66864298b6706baadac5705b": {
      "model_module": "@jupyter-widgets/base",
      "model_module_version": "2.0.0",
      "model_name": "LayoutModel",
      "state": {}
     }
    },
    "version_major": 2,
    "version_minor": 0
   }
  }
 },
 "nbformat": 4,
 "nbformat_minor": 5
}
